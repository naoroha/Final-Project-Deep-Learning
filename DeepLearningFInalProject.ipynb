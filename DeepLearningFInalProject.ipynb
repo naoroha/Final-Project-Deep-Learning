{
  "nbformat": 4,
  "nbformat_minor": 0,
  "metadata": {
    "colab": {
      "provenance": [],
      "gpuType": "T4",
      "authorship_tag": "ABX9TyPBFsaYthg0RFr1fRxLcvdZ",
      "include_colab_link": true
    },
    "kernelspec": {
      "name": "python3",
      "display_name": "Python 3"
    },
    "language_info": {
      "name": "python"
    },
    "accelerator": "GPU"
  },
  "cells": [
    {
      "cell_type": "markdown",
      "metadata": {
        "id": "view-in-github",
        "colab_type": "text"
      },
      "source": [
        "<a href=\"https://colab.research.google.com/github/naoroha/Final-Project-Deep-Learning/blob/main/DeepLearningFInalProject.ipynb\" target=\"_parent\"><img src=\"https://colab.research.google.com/assets/colab-badge.svg\" alt=\"Open In Colab\"/></a>"
      ]
    },
    {
      "cell_type": "markdown",
      "source": [
        "#final project\n",
        "we will start with extracting the data and modify it"
      ],
      "metadata": {
        "id": "vVdkFjVu_vVY"
      }
    },
    {
      "cell_type": "code",
      "source": [
        "import pandas as pd\n",
        "import requests\n",
        "from pathlib import Path\n",
        "\n",
        "# URL to download the Excel file from GitHub\n",
        "url = \"https://github.com/naoroha/Final-Project-Deep-Learning/raw/main/FM_dataset.xlsx\"\n",
        "\n",
        "# Check if the file exists\n",
        "if not Path(\"FM_dataset.xlsx\").is_file():\n",
        "    # Download the file from GitHub\n",
        "    response = requests.get(url)\n",
        "\n",
        "    # Check if the download was successful\n",
        "    if response.status_code == 200:\n",
        "        # Save the file\n",
        "        with open(\"FM_dataset.xlsx\", \"wb\") as f:\n",
        "            f.write(response.content)\n",
        "    else:\n",
        "        print(\"Failed to download the file\")\n",
        "\n",
        "# Read the Excel file into a DataFrame\n",
        "df = pd.read_excel(\"FM_dataset.xlsx\", sheet_name=\"design\", engine=\"openpyxl\")\n"
      ],
      "metadata": {
        "id": "rYbxxpukAK-s"
      },
      "execution_count": 26,
      "outputs": []
    },
    {
      "cell_type": "code",
      "source": [
        "#get some of the noises out\n",
        "df=df[~df['sample'].str.contains('Fam')].reset_index(drop=True)\n",
        "df=df[~df['sample'].str.contains('House')].reset_index(drop=True)\n",
        "print(df['sample'])"
      ],
      "metadata": {
        "colab": {
          "base_uri": "https://localhost:8080/"
        },
        "id": "ie5UmvoRDoim",
        "outputId": "e3a018f8-d683-4d68-f620-934001e027c8"
      },
      "execution_count": 27,
      "outputs": [
        {
          "output_type": "stream",
          "name": "stdout",
          "text": [
            "0       Pt_Ctrl_101\n",
            "1       Pt_Ctrl_117\n",
            "2       Pt_Ctrl_155\n",
            "3       Pt_Ctrl_156\n",
            "4       Pt_Ctrl_188\n",
            "           ...     \n",
            "120    Pt_Fibro_934\n",
            "121    Pt_Fibro_936\n",
            "122    Pt_Fibro_946\n",
            "123    Pt_Fibro_962\n",
            "124    Pt_Fibro_989\n",
            "Name: sample, Length: 125, dtype: object\n"
          ]
        }
      ]
    },
    {
      "cell_type": "code",
      "source": [
        "X=df.drop(columns=['diagnosis','sample','gender',])\n",
        "y=df['diagnosis']"
      ],
      "metadata": {
        "id": "hlM26iDtHxHu"
      },
      "execution_count": 28,
      "outputs": []
    },
    {
      "cell_type": "markdown",
      "source": [
        "##Turn data into tensors and create a train and test split"
      ],
      "metadata": {
        "id": "VSnePxf3OEjD"
      }
    },
    {
      "cell_type": "code",
      "source": [
        "import torch"
      ],
      "metadata": {
        "id": "oVO5ZeTqNJMS"
      },
      "execution_count": 29,
      "outputs": []
    },
    {
      "cell_type": "code",
      "source": [
        "X_numpy = X.values\n",
        "y_numpy = y.values\n",
        "# Convert numpy array to PyTorch tensor\n",
        "X = torch.tensor(X_numpy, dtype=torch.float)\n",
        "y = torch.tensor(y_numpy, dtype=torch.float)"
      ],
      "metadata": {
        "id": "9iqiTzhtOXS0"
      },
      "execution_count": 30,
      "outputs": []
    },
    {
      "cell_type": "code",
      "source": [
        "X_tensor_normalized = torch.nan_to_num(X, nan=0.0)\n",
        "\n",
        "# Normalize the tensor\n",
        "X_mean = X_tensor_normalized.mean(dim=0)\n",
        "X_std = X_tensor_normalized.std(dim=0)\n",
        "X= (X_tensor_normalized - X_mean) / X_std"
      ],
      "metadata": {
        "id": "XPRTGQP-aNBL"
      },
      "execution_count": 31,
      "outputs": []
    },
    {
      "cell_type": "code",
      "source": [
        "# We will now split the data into training and test sets\n",
        "from sklearn.model_selection import train_test_split\n",
        "\n",
        "X_train,X_test, y_train, y_test=train_test_split(X,\n",
        "                                                 y,\n",
        "                                                 test_size=0.2,\n",
        "                                                 random_state=42)\n",
        "\n",
        "len(X_train),len(X_test),len(y_train),len(y_test)"
      ],
      "metadata": {
        "colab": {
          "base_uri": "https://localhost:8080/"
        },
        "id": "-ulRJcMwOZjw",
        "outputId": "9172dc86-8d56-4e73-b337-a42a2f024993"
      },
      "execution_count": 32,
      "outputs": [
        {
          "output_type": "execute_result",
          "data": {
            "text/plain": [
              "(100, 25, 100, 25)"
            ]
          },
          "metadata": {},
          "execution_count": 32
        }
      ]
    },
    {
      "cell_type": "markdown",
      "source": [
        "## building a model\n",
        "\n",
        "building a model to classify our blue and red dots\n",
        "\n",
        "we want to:\n",
        "1. Setup device agonistic code so our code will run on an accelerator(GPU) if there is one not really necessary here, but good practice\n",
        "\n",
        "2. Construct a model(subclassing nn.Module)\n",
        "3. Define a loss function and optimizer\n",
        "4. Create a training and testing loop"
      ],
      "metadata": {
        "id": "t410JHJzTYl2"
      }
    },
    {
      "cell_type": "code",
      "source": [
        "import torch\n",
        "from torch import nn\n",
        "\n",
        "#Make device agnostic code\n",
        "device=\"cuda\" if torch.cuda.is_available() else \"cpu\"\n",
        "device"
      ],
      "metadata": {
        "colab": {
          "base_uri": "https://localhost:8080/",
          "height": 35
        },
        "id": "fU2CdPVQPS1C",
        "outputId": "36346b11-aa3e-4c90-928a-b43b14159c02"
      },
      "execution_count": 33,
      "outputs": [
        {
          "output_type": "execute_result",
          "data": {
            "text/plain": [
              "'cuda'"
            ],
            "application/vnd.google.colaboratory.intrinsic+json": {
              "type": "string"
            }
          },
          "metadata": {},
          "execution_count": 33
        }
      ]
    },
    {
      "cell_type": "markdown",
      "source": [
        "Now we've setup device agnostic code, let's create a model that:\n",
        "\n",
        "1. Subclasses '`nn.Module`'(almost all models in pyTorch subclass `nn.module`)\n",
        "2. We will start with 2`nn.Linear()` layers that are capable of handeling the shapes of our data\n",
        "3. Defines a `forward()` method the outlines the forward pass(or forward computation) of the model\n",
        "4. Instatiate an intance of our model class and sent it to terget `device`\n",
        "\n"
      ],
      "metadata": {
        "id": "iM2QXI56UKMn"
      }
    },
    {
      "cell_type": "code",
      "source": [
        "# in oreder to decide the \"in_features\" in our first layer we need to know our features shape\n",
        "X_train.shape"
      ],
      "metadata": {
        "id": "l0XVefRCVZa6",
        "colab": {
          "base_uri": "https://localhost:8080/"
        },
        "outputId": "0e3c0f02-4471-4005-bdae-e6326be3f958"
      },
      "execution_count": 34,
      "outputs": [
        {
          "output_type": "execute_result",
          "data": {
            "text/plain": [
              "torch.Size([100, 67])"
            ]
          },
          "metadata": {},
          "execution_count": 34
        }
      ]
    },
    {
      "cell_type": "code",
      "source": [
        "# construct a model that subclasses nn.module, **Version 0**\n",
        "class FibromyalgiaV0(nn.Module):\n",
        "  def __init__(self):\n",
        "    super().__init__()\n",
        "\n",
        "    self.layer_1 = nn.Linear(in_features=67, out_features=12) # takes a full cordinate of 'X_train' and downscales it to 12 features\n",
        "    self.layer_2 = nn.Linear(in_features=12, out_features=1) # takes the previous out 12 features and turns it to the expected output\n",
        "  def forward(self,x):\n",
        "    return self.layer_2(self.layer_1(x)) # x -> layer_1 -> layer_2 -> output\n",
        "\n",
        "model_0 = FibromyalgiaV0().to(device)\n",
        "model_0"
      ],
      "metadata": {
        "id": "tjCUck1wTunL",
        "colab": {
          "base_uri": "https://localhost:8080/"
        },
        "outputId": "3745f615-f7ad-4e7d-edfa-39f01c653934"
      },
      "execution_count": 17,
      "outputs": [
        {
          "output_type": "execute_result",
          "data": {
            "text/plain": [
              "FibromyalgiaV0(\n",
              "  (layer_1): Linear(in_features=67, out_features=12, bias=True)\n",
              "  (layer_2): Linear(in_features=12, out_features=1, bias=True)\n",
              ")"
            ]
          },
          "metadata": {},
          "execution_count": 17
        }
      ]
    },
    {
      "cell_type": "code",
      "source": [
        "# Make predictions\n",
        "with torch.inference_mode():\n",
        "  untrained_preds= model_0(X_test.to(device))\n",
        "print(f\"Length of predictions: {len(untrained_preds)}, Shape: {untrained_preds.shape}\")\n",
        "print(f\"Length of test samples: {len(y_test)}, Shape: {y_test.shape}\")\n",
        "print(f\"\\n First 10 predictions:\\n {untrained_preds[:10]} \")\n",
        "print(f\"\\n First 10 labels:\\n {y_test[:10]} \")"
      ],
      "metadata": {
        "colab": {
          "base_uri": "https://localhost:8080/"
        },
        "id": "2Ulq5yo7XKUm",
        "outputId": "5bb3b8ac-b1cd-4530-b767-5611d11a157f"
      },
      "execution_count": 18,
      "outputs": [
        {
          "output_type": "stream",
          "name": "stdout",
          "text": [
            "Length of predictions: 25, Shape: torch.Size([25, 1])\n",
            "Length of test samples: 25, Shape: torch.Size([25])\n",
            "\n",
            " First 10 predictions:\n",
            " tensor([[ 0.3831],\n",
            "        [-0.1443],\n",
            "        [ 0.1285],\n",
            "        [ 0.3847],\n",
            "        [ 0.0760],\n",
            "        [ 0.4754],\n",
            "        [ 0.1574],\n",
            "        [-0.0227],\n",
            "        [ 0.2248],\n",
            "        [ 0.4079]], device='cuda:0') \n",
            "\n",
            " First 10 labels:\n",
            " tensor([0., 0., 0., 1., 1., 1., 1., 1., 1., 0.]) \n"
          ]
        }
      ]
    },
    {
      "cell_type": "code",
      "source": [
        "# Setup the loss function, the mission is to classification, so we will might want to use cross-enropy\n",
        "loss_fn= nn.BCEWithLogitsLoss() # BCEWithLogitLoss = sgmoid activation function built-in\n",
        "\n",
        "optimizer = torch.optim.SGD(params=model_0.parameters(),\n",
        "                            lr=0.1)"
      ],
      "metadata": {
        "id": "XngEwY64XTua"
      },
      "execution_count": 19,
      "outputs": []
    },
    {
      "cell_type": "code",
      "source": [
        "#Calaculate accuracy\n",
        "def accuarcy_fn(y_true,y_pred):\n",
        "  correct=torch.eq(y_true,y_pred).sum().item()\n",
        "  acc = (correct/len(y_pred)) *100\n",
        "  return acc"
      ],
      "metadata": {
        "id": "MeAY1caNZF2K"
      },
      "execution_count": 20,
      "outputs": []
    },
    {
      "cell_type": "markdown",
      "source": [
        "## Train model\n",
        "\n",
        "1. Forward pass\n",
        "2. Calculate the loss\n",
        "3. optimizer zero grad\n",
        "4. Loss backwards (backpropagation)\n",
        "5. Optimizer step (gardient descent)"
      ],
      "metadata": {
        "id": "_aVLDgj3ZL12"
      }
    },
    {
      "cell_type": "markdown",
      "source": [
        "### 1. Going from raw logits -> prediction probablities -> prediction labelss\n",
        "\n",
        "our model outputs are going to be raw **logits**.\n",
        "\n",
        "we can conveert these **logits** into **prediction propabilities** by passing them to some kind of activation function(e.g. sigmoid for binary classification and softmax for multiclass classification).\n",
        "Then we can convert our model's prediction probabilities to **prediction labels** by either rounding them or taking the `argmax()`."
      ],
      "metadata": {
        "id": "0dwwzrn_ZPFu"
      }
    },
    {
      "cell_type": "code",
      "source": [
        "# view the first 5 outpurs of the forward pass on the test data\n",
        "model_0.eval()\n",
        "with torch.inference_mode():\n",
        "  y_logits=model_0(X_test.to(device))[:5]\n",
        "y_logits"
      ],
      "metadata": {
        "colab": {
          "base_uri": "https://localhost:8080/"
        },
        "id": "g-fWvBLTZJSA",
        "outputId": "8ddcdbb9-ebde-4132-e041-c9f877af033c"
      },
      "execution_count": 21,
      "outputs": [
        {
          "output_type": "execute_result",
          "data": {
            "text/plain": [
              "tensor([[ 0.3831],\n",
              "        [-0.1443],\n",
              "        [ 0.1285],\n",
              "        [ 0.3847],\n",
              "        [ 0.0760]], device='cuda:0')"
            ]
          },
          "metadata": {},
          "execution_count": 21
        }
      ]
    },
    {
      "cell_type": "code",
      "source": [
        "# use the sigmoid activation function on our model logits in order to turn them to propabilities\n",
        "y_pred_probs = torch.sigmoid(y_logits)\n",
        "y_pred_probs"
      ],
      "metadata": {
        "colab": {
          "base_uri": "https://localhost:8080/"
        },
        "id": "jN3VoB9cZhMW",
        "outputId": "12be791a-d5ce-403c-b372-12335edd8bca"
      },
      "execution_count": 22,
      "outputs": [
        {
          "output_type": "execute_result",
          "data": {
            "text/plain": [
              "tensor([[0.5946],\n",
              "        [0.4640],\n",
              "        [0.5321],\n",
              "        [0.5950],\n",
              "        [0.5190]], device='cuda:0')"
            ]
          },
          "metadata": {},
          "execution_count": 22
        }
      ]
    },
    {
      "cell_type": "code",
      "source": [
        "# Find the predicted lebels\n",
        "y_preds =torch.round(y_pred_probs)\n",
        "\n",
        "# In Full (logits -> pred probs -> pred labels)\n",
        "y_pred_labels = torch.round(torch.sigmoid(model_0(X_test.to(device))[:5]))\n",
        "\n",
        "# Check for equality\n",
        "print(torch.eq(y_preds.squeeze(),y_pred_labels.squeeze()))"
      ],
      "metadata": {
        "colab": {
          "base_uri": "https://localhost:8080/"
        },
        "id": "PEsqTrILZpeo",
        "outputId": "cc1b162a-4e1a-4c2d-bd63-a0250c54bd30"
      },
      "execution_count": 23,
      "outputs": [
        {
          "output_type": "stream",
          "name": "stdout",
          "text": [
            "tensor([True, True, True, True, True], device='cuda:0')\n"
          ]
        }
      ]
    },
    {
      "cell_type": "markdown",
      "source": [
        "# Building the training and test loop"
      ],
      "metadata": {
        "id": "vrRJPRTxa1u3"
      }
    },
    {
      "cell_type": "code",
      "source": [
        "# torch.manual_seed(42)\n",
        "\n",
        "# # Set the number of epoches\n",
        "# epoches = 100\n",
        "\n",
        "# # put data to target device\n",
        "# X_train,y_train = X_train.to(device), y_train.to(device)\n",
        "# X_test, y_test = X_test.to(device), y_test.to(device)\n",
        "\n",
        "# # Build training and evaluation loop\n",
        "# for epoch in range(epoches):\n",
        "#   ###Training\n",
        "#   model_0.train()\n",
        "\n",
        "#   # 1. Forward pass\n",
        "#   y_logits = model_0(X_train).squeeze()\n",
        "#   y_pred = torch.round(torch.sigmoid(y_logits)) # raw logits -> predoction propabilities -> prediction labels\n",
        "\n",
        "#   #Calculate the loss\n",
        "#   '''\n",
        "#   nn.BCELoss insted of nn.BCEWithLogitsLoss\n",
        "#     loss = loss_fn(torch.sigmoid(y_logits)\n",
        "#                     ,y_train)\n",
        "#   '''\n",
        "#   train_loss = loss_fn(y_logits,\n",
        "#                  y_train)\n",
        "#   train_acc = accuarcy_fn(y_true=y_train,\n",
        "#                     y_pred=y_pred)\n",
        "#   # 3.Optimize zero grad\n",
        "#   optimizer.zero_grad()\n",
        "\n",
        "#   # 4. Loss backward\n",
        "#   train_loss.backward()\n",
        "\n",
        "#   # 5. Optimizer step\n",
        "#   optimizer.step()\n",
        "\n",
        "#   ###testing\n",
        "#   model_0.eval()\n",
        "#   with torch.inference_mode():\n",
        "#     #1. Forward pass\n",
        "#     test_logits = model_0(X_test).squeeze()\n",
        "#     test_pred = torch.round(torch.sigmoid(test_logits))\n",
        "\n",
        "#     #2. Calculate test loss and acc\n",
        "#     test_loss= loss_fn(test_logits,\n",
        "#                        y_test)\n",
        "#     test_acc= accuarcy_fn(y_true=y_test,\n",
        "#                           y_pred=test_pred)\n",
        "#   if epoch % 10 == 0:\n",
        "#     print(f\"Epoch= {epoch} | Train_Loss = {train_loss:.5f} |  Train_Accuarcy = {train_acc:.2f} | Test_Loss = {test_loss:.5f} | Test_Accuracy = {test_acc:.2f}\")\n"
      ],
      "metadata": {
        "id": "IwNBtB2pascT"
      },
      "execution_count": 24,
      "outputs": []
    },
    {
      "cell_type": "markdown",
      "source": [
        "###assumption\n",
        "\n",
        "from the metrics above we can see that the model really good, but we can not relay on that, we have to remember that the data is small"
      ],
      "metadata": {
        "id": "9U6V82J3hfEF"
      }
    },
    {
      "cell_type": "code",
      "source": [
        "# We will now use the same model but in Cross-Validation approach\n",
        "from sklearn.model_selection import KFold\n",
        "import matplotlib.pyplot as plt\n",
        "import numpy as np\n",
        "\n",
        "\n",
        "torch.manual_seed(42)\n",
        "# Define the number of folds for cross-validation\n",
        "k = 10\n",
        "\n",
        "# Initialize a KFold object\n",
        "kf = KFold(n_splits=k, shuffle=True, random_state=42)\n",
        "epoches = 100\n",
        "\n",
        "accuracy_scores = []\n",
        "\n",
        "# Perform k-fold cross-validation\n",
        "for train_index, test_index in kf.split(X):\n",
        "    X_train, X_test = X[train_index].to(device), X[test_index].to(device)\n",
        "    y_train, y_test = y[train_index].to(device), y[test_index].to(device)\n",
        "\n",
        "    # Build training and evaluation loop\n",
        "    for epoch in range(epoches):\n",
        "      ###Training\n",
        "      model_0.train()\n",
        "\n",
        "      # 1. Forward pass\n",
        "      y_logits = model_0(X_train).squeeze()\n",
        "      y_pred = torch.round(torch.sigmoid(y_logits)) # raw logits -> predoction propabilities -> prediction labels\n",
        "\n",
        "      #Calculate the loss\n",
        "      '''\n",
        "      nn.BCELoss insted of nn.BCEWithLogitsLoss\n",
        "        loss = loss_fn(torch.sigmoid(y_logits)\n",
        "                        ,y_train)\n",
        "      '''\n",
        "      train_loss = loss_fn(y_logits,\n",
        "                    y_train)\n",
        "      train_acc = accuarcy_fn(y_true=y_train,\n",
        "                        y_pred=y_pred)\n",
        "      # 3.Optimize zero grad\n",
        "      optimizer.zero_grad()\n",
        "\n",
        "      # 4. Loss backward\n",
        "      train_loss.backward()\n",
        "\n",
        "      # 5. Optimizer step\n",
        "      optimizer.step()\n",
        "\n",
        "      ###testing\n",
        "      model_0.eval()\n",
        "      with torch.inference_mode():\n",
        "        #1. Forward pass\n",
        "        test_logits = model_0(X_test).squeeze()\n",
        "        test_pred = torch.round(torch.sigmoid(test_logits))\n",
        "\n",
        "        #2. Calculate test loss and acc\n",
        "        test_loss= loss_fn(test_logits,\n",
        "                          y_test)\n",
        "        test_acc= accuarcy_fn(y_true=y_test,\n",
        "                              y_pred=test_pred)\n",
        "    accuracy_scores.append(test_acc)\n",
        "\n",
        "# Plot the performance metric for each fold\n",
        "plt.figure(figsize=(8, 6))\n",
        "plt.plot(np.arange(1, k+1), accuracy_scores, marker='o', linestyle='-', color='b')\n",
        "plt.xlabel('Fold')\n",
        "plt.ylabel('Accuracy')\n",
        "plt.title('Accuracy for each fold of Cross-Validation')\n",
        "plt.grid(True)\n",
        "plt.show()\n"
      ],
      "metadata": {
        "colab": {
          "base_uri": "https://localhost:8080/",
          "height": 564
        },
        "id": "UQpl2uGPcAGZ",
        "outputId": "3a016d75-16ab-472c-ae12-7fd170f8e770"
      },
      "execution_count": 25,
      "outputs": [
        {
          "output_type": "display_data",
          "data": {
            "text/plain": [
              "<Figure size 800x600 with 1 Axes>"
            ],
            "image/png": "[encoded data removed]"
          },
          "metadata": {}
        }
      ]
    },
    {
      "cell_type": "code",
      "source": [],
      "metadata": {
        "id": "E7T-QNlLwHFz"
      },
      "execution_count": 25,
      "outputs": []
    }
  ]
}