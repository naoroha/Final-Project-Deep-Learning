{
  "nbformat": 4,
  "nbformat_minor": 0,
  "metadata": {
    "colab": {
      "provenance": [],
      "authorship_tag": "ABX9TyN0Tsm6rzs0dOgo1Bg/zS2d",
      "include_colab_link": true
    },
    "kernelspec": {
      "name": "python3",
      "display_name": "Python 3"
    },
    "language_info": {
      "name": "python"
    },
    "accelerator": "TPU"
  },
  "cells": [
    {
      "cell_type": "markdown",
      "metadata": {
        "id": "view-in-github",
        "colab_type": "text"
      },
      "source": [
        "<a href=\"https://colab.research.google.com/github/naoroha/Final-Project-Deep-Learning/blob/main/DeepLearningFInalProject.ipynb\" target=\"_parent\"><img src=\"https://colab.research.google.com/assets/colab-badge.svg\" alt=\"Open In Colab\"/></a>"
      ]
    },
    {
      "cell_type": "markdown",
      "source": [
        "#final project\n",
        "we will start with extracting the data and modify it"
      ],
      "metadata": {
        "id": "vVdkFjVu_vVY"
      }
    },
    {
      "cell_type": "code",
      "source": [
        "import pandas as pd\n",
        "import requests\n",
        "from pathlib import Path\n",
        "\n",
        "# URL to download the Excel file from GitHub\n",
        "url = \"https://github.com/naoroha/Final-Project-Deep-Learning/raw/main/FM_dataset.xlsx\"\n",
        "\n",
        "# Check if the file exists\n",
        "if not Path(\"FM_dataset.xlsx\").is_file():\n",
        "    # Download the file from GitHub\n",
        "    response = requests.get(url)\n",
        "\n",
        "    # Check if the download was successful\n",
        "    if response.status_code == 200:\n",
        "        # Save the file\n",
        "        with open(\"FM_dataset.xlsx\", \"wb\") as f:\n",
        "            f.write(response.content)\n",
        "    else:\n",
        "        print(\"Failed to download the file\")\n",
        "\n",
        "# Read the Excel file into a DataFrame\n",
        "df_design = pd.read_excel(\"FM_dataset.xlsx\", sheet_name=\"design\", engine=\"openpyxl\")\n",
        "df_data = pd.read_excel(\"FM_dataset.xlsx\", sheet_name=\"data\", engine=\"openpyxl\")\n"
      ],
      "metadata": {
        "id": "rYbxxpukAK-s"
      },
      "execution_count": 1,
      "outputs": []
    },
    {
      "cell_type": "code",
      "source": [
        "#get some of the noises out\n",
        "df_design = df_design[~df_design['sample'].str.contains('Fam')].reset_index(drop=True)\n",
        "df_design = df_design[~df_design['sample'].str.contains('House')].reset_index(drop=True)\n",
        "print(df_design['sample'])"
      ],
      "metadata": {
        "colab": {
          "base_uri": "https://localhost:8080/"
        },
        "id": "ie5UmvoRDoim",
        "outputId": "c776cb2b-b0bc-4f37-e4b1-48ad623bb6a8"
      },
      "execution_count": 2,
      "outputs": [
        {
          "output_type": "stream",
          "name": "stdout",
          "text": [
            "0       Pt_Ctrl_101\n",
            "1       Pt_Ctrl_117\n",
            "2       Pt_Ctrl_155\n",
            "3       Pt_Ctrl_156\n",
            "4       Pt_Ctrl_188\n",
            "           ...     \n",
            "120    Pt_Fibro_934\n",
            "121    Pt_Fibro_936\n",
            "122    Pt_Fibro_946\n",
            "123    Pt_Fibro_962\n",
            "124    Pt_Fibro_989\n",
            "Name: sample, Length: 125, dtype: object\n"
          ]
        }
      ]
    },
    {
      "cell_type": "code",
      "source": [
        "X = df_data[df_design['sample']]\n",
        "y = df_design['diagnosis']\n",
        "X"
      ],
      "metadata": {
        "id": "hlM26iDtHxHu",
        "colab": {
          "base_uri": "https://localhost:8080/",
          "height": 443
        },
        "outputId": "1f2bf39d-2b71-45d5-b3a4-0250a43ac377"
      },
      "execution_count": 3,
      "outputs": [
        {
          "output_type": "execute_result",
          "data": {
            "text/plain": [
              "      Pt_Ctrl_101  Pt_Ctrl_117  Pt_Ctrl_155  Pt_Ctrl_156  Pt_Ctrl_188  \\\n",
              "0               0            1            0            1            0   \n",
              "1               0            0            0            0            0   \n",
              "2               0            0            3            0            0   \n",
              "3               0            0            0            0            0   \n",
              "4               0            0            0            0            0   \n",
              "...           ...          ...          ...          ...          ...   \n",
              "1615            6            0            0            0            0   \n",
              "1616            0            0            0            0            0   \n",
              "1617            1            0            0            0            0   \n",
              "1618            0            0            0            0            0   \n",
              "1619            1            0            0            0            0   \n",
              "\n",
              "      Pt_Ctrl_190  Pt_Ctrl_199  Pt_Ctrl_201  Pt_Ctrl_205  Pt_Ctrl_216  ...  \\\n",
              "0               0            0          125            0            0  ...   \n",
              "1               0            0            0            0            0  ...   \n",
              "2               0            0            4            0            0  ...   \n",
              "3               0            0            0            0            0  ...   \n",
              "4             148            0            0            0            0  ...   \n",
              "...           ...          ...          ...          ...          ...  ...   \n",
              "1615            0            0            0            0            0  ...   \n",
              "1616            0            0            0            0            0  ...   \n",
              "1617            0            0            0            0            0  ...   \n",
              "1618            0            0            0            0            0  ...   \n",
              "1619            0          142            0            0            0  ...   \n",
              "\n",
              "      Pt_Fibro_884  Pt_Fibro_907  Pt_Fibro_908  Pt_Fibro_932  Pt_Fibro_933  \\\n",
              "0                0             2             0             0             1   \n",
              "1                0             0             0             0             0   \n",
              "2                0           156             0             0             0   \n",
              "3                0             0             0             0             0   \n",
              "4                0            91             0             0             0   \n",
              "...            ...           ...           ...           ...           ...   \n",
              "1615             0             0             0             0             0   \n",
              "1616             0             0             0             0             0   \n",
              "1617             0             0             0             0             0   \n",
              "1618             0             0            43             0             0   \n",
              "1619             0             0             0             0             0   \n",
              "\n",
              "      Pt_Fibro_934  Pt_Fibro_936  Pt_Fibro_946  Pt_Fibro_962  Pt_Fibro_989  \n",
              "0                0             0             0             0             0  \n",
              "1                0             0             0             0             0  \n",
              "2                0             0             0            35             4  \n",
              "3                0             0             0             0             0  \n",
              "4                0             0             0             0             0  \n",
              "...            ...           ...           ...           ...           ...  \n",
              "1615             0             0             0            16             0  \n",
              "1616             0             9             0             0             0  \n",
              "1617             0             5             0            19             0  \n",
              "1618             0             0             0             0             0  \n",
              "1619             0             0             0             3             0  \n",
              "\n",
              "[1620 rows x 125 columns]"
            ],
            "text/html": [
              "\n",
              "  <div id=\"df-610f4a7c-6746-46b4-bbda-3041460e81bd\" class=\"colab-df-container\">\n",
              "    <div>\n",
              "<style scoped>\n",
              "    .dataframe tbody tr th:only-of-type {\n",
              "        vertical-align: middle;\n",
              "    }\n",
              "\n",
              "    .dataframe tbody tr th {\n",
              "        vertical-align: top;\n",
              "    }\n",
              "\n",
              "    .dataframe thead th {\n",
              "        text-align: right;\n",
              "    }\n",
              "</style>\n",
              "<table border=\"1\" class=\"dataframe\">\n",
              "  <thead>\n",
              "    <tr style=\"text-align: right;\">\n",
              "      <th></th>\n",
              "      <th>Pt_Ctrl_101</th>\n",
              "      <th>Pt_Ctrl_117</th>\n",
              "      <th>Pt_Ctrl_155</th>\n",
              "      <th>Pt_Ctrl_156</th>\n",
              "      <th>Pt_Ctrl_188</th>\n",
              "      <th>Pt_Ctrl_190</th>\n",
              "      <th>Pt_Ctrl_199</th>\n",
              "      <th>Pt_Ctrl_201</th>\n",
              "      <th>Pt_Ctrl_205</th>\n",
              "      <th>Pt_Ctrl_216</th>\n",
              "      <th>...</th>\n",
              "      <th>Pt_Fibro_884</th>\n",
              "      <th>Pt_Fibro_907</th>\n",
              "      <th>Pt_Fibro_908</th>\n",
              "      <th>Pt_Fibro_932</th>\n",
              "      <th>Pt_Fibro_933</th>\n",
              "      <th>Pt_Fibro_934</th>\n",
              "      <th>Pt_Fibro_936</th>\n",
              "      <th>Pt_Fibro_946</th>\n",
              "      <th>Pt_Fibro_962</th>\n",
              "      <th>Pt_Fibro_989</th>\n",
              "    </tr>\n",
              "  </thead>\n",
              "  <tbody>\n",
              "    <tr>\n",
              "      <th>0</th>\n",
              "      <td>0</td>\n",
              "      <td>1</td>\n",
              "      <td>0</td>\n",
              "      <td>1</td>\n",
              "      <td>0</td>\n",
              "      <td>0</td>\n",
              "      <td>0</td>\n",
              "      <td>125</td>\n",
              "      <td>0</td>\n",
              "      <td>0</td>\n",
              "      <td>...</td>\n",
              "      <td>0</td>\n",
              "      <td>2</td>\n",
              "      <td>0</td>\n",
              "      <td>0</td>\n",
              "      <td>1</td>\n",
              "      <td>0</td>\n",
              "      <td>0</td>\n",
              "      <td>0</td>\n",
              "      <td>0</td>\n",
              "      <td>0</td>\n",
              "    </tr>\n",
              "    <tr>\n",
              "      <th>1</th>\n",
              "      <td>0</td>\n",
              "      <td>0</td>\n",
              "      <td>0</td>\n",
              "      <td>0</td>\n",
              "      <td>0</td>\n",
              "      <td>0</td>\n",
              "      <td>0</td>\n",
              "      <td>0</td>\n",
              "      <td>0</td>\n",
              "      <td>0</td>\n",
              "      <td>...</td>\n",
              "      <td>0</td>\n",
              "      <td>0</td>\n",
              "      <td>0</td>\n",
              "      <td>0</td>\n",
              "      <td>0</td>\n",
              "      <td>0</td>\n",
              "      <td>0</td>\n",
              "      <td>0</td>\n",
              "      <td>0</td>\n",
              "      <td>0</td>\n",
              "    </tr>\n",
              "    <tr>\n",
              "      <th>2</th>\n",
              "      <td>0</td>\n",
              "      <td>0</td>\n",
              "      <td>3</td>\n",
              "      <td>0</td>\n",
              "      <td>0</td>\n",
              "      <td>0</td>\n",
              "      <td>0</td>\n",
              "      <td>4</td>\n",
              "      <td>0</td>\n",
              "      <td>0</td>\n",
              "      <td>...</td>\n",
              "      <td>0</td>\n",
              "      <td>156</td>\n",
              "      <td>0</td>\n",
              "      <td>0</td>\n",
              "      <td>0</td>\n",
              "      <td>0</td>\n",
              "      <td>0</td>\n",
              "      <td>0</td>\n",
              "      <td>35</td>\n",
              "      <td>4</td>\n",
              "    </tr>\n",
              "    <tr>\n",
              "      <th>3</th>\n",
              "      <td>0</td>\n",
              "      <td>0</td>\n",
              "      <td>0</td>\n",
              "      <td>0</td>\n",
              "      <td>0</td>\n",
              "      <td>0</td>\n",
              "      <td>0</td>\n",
              "      <td>0</td>\n",
              "      <td>0</td>\n",
              "      <td>0</td>\n",
              "      <td>...</td>\n",
              "      <td>0</td>\n",
              "      <td>0</td>\n",
              "      <td>0</td>\n",
              "      <td>0</td>\n",
              "      <td>0</td>\n",
              "      <td>0</td>\n",
              "      <td>0</td>\n",
              "      <td>0</td>\n",
              "      <td>0</td>\n",
              "      <td>0</td>\n",
              "    </tr>\n",
              "    <tr>\n",
              "      <th>4</th>\n",
              "      <td>0</td>\n",
              "      <td>0</td>\n",
              "      <td>0</td>\n",
              "      <td>0</td>\n",
              "      <td>0</td>\n",
              "      <td>148</td>\n",
              "      <td>0</td>\n",
              "      <td>0</td>\n",
              "      <td>0</td>\n",
              "      <td>0</td>\n",
              "      <td>...</td>\n",
              "      <td>0</td>\n",
              "      <td>91</td>\n",
              "      <td>0</td>\n",
              "      <td>0</td>\n",
              "      <td>0</td>\n",
              "      <td>0</td>\n",
              "      <td>0</td>\n",
              "      <td>0</td>\n",
              "      <td>0</td>\n",
              "      <td>0</td>\n",
              "    </tr>\n",
              "    <tr>\n",
              "      <th>...</th>\n",
              "      <td>...</td>\n",
              "      <td>...</td>\n",
              "      <td>...</td>\n",
              "      <td>...</td>\n",
              "      <td>...</td>\n",
              "      <td>...</td>\n",
              "      <td>...</td>\n",
              "      <td>...</td>\n",
              "      <td>...</td>\n",
              "      <td>...</td>\n",
              "      <td>...</td>\n",
              "      <td>...</td>\n",
              "      <td>...</td>\n",
              "      <td>...</td>\n",
              "      <td>...</td>\n",
              "      <td>...</td>\n",
              "      <td>...</td>\n",
              "      <td>...</td>\n",
              "      <td>...</td>\n",
              "      <td>...</td>\n",
              "      <td>...</td>\n",
              "    </tr>\n",
              "    <tr>\n",
              "      <th>1615</th>\n",
              "      <td>6</td>\n",
              "      <td>0</td>\n",
              "      <td>0</td>\n",
              "      <td>0</td>\n",
              "      <td>0</td>\n",
              "      <td>0</td>\n",
              "      <td>0</td>\n",
              "      <td>0</td>\n",
              "      <td>0</td>\n",
              "      <td>0</td>\n",
              "      <td>...</td>\n",
              "      <td>0</td>\n",
              "      <td>0</td>\n",
              "      <td>0</td>\n",
              "      <td>0</td>\n",
              "      <td>0</td>\n",
              "      <td>0</td>\n",
              "      <td>0</td>\n",
              "      <td>0</td>\n",
              "      <td>16</td>\n",
              "      <td>0</td>\n",
              "    </tr>\n",
              "    <tr>\n",
              "      <th>1616</th>\n",
              "      <td>0</td>\n",
              "      <td>0</td>\n",
              "      <td>0</td>\n",
              "      <td>0</td>\n",
              "      <td>0</td>\n",
              "      <td>0</td>\n",
              "      <td>0</td>\n",
              "      <td>0</td>\n",
              "      <td>0</td>\n",
              "      <td>0</td>\n",
              "      <td>...</td>\n",
              "      <td>0</td>\n",
              "      <td>0</td>\n",
              "      <td>0</td>\n",
              "      <td>0</td>\n",
              "      <td>0</td>\n",
              "      <td>0</td>\n",
              "      <td>9</td>\n",
              "      <td>0</td>\n",
              "      <td>0</td>\n",
              "      <td>0</td>\n",
              "    </tr>\n",
              "    <tr>\n",
              "      <th>1617</th>\n",
              "      <td>1</td>\n",
              "      <td>0</td>\n",
              "      <td>0</td>\n",
              "      <td>0</td>\n",
              "      <td>0</td>\n",
              "      <td>0</td>\n",
              "      <td>0</td>\n",
              "      <td>0</td>\n",
              "      <td>0</td>\n",
              "      <td>0</td>\n",
              "      <td>...</td>\n",
              "      <td>0</td>\n",
              "      <td>0</td>\n",
              "      <td>0</td>\n",
              "      <td>0</td>\n",
              "      <td>0</td>\n",
              "      <td>0</td>\n",
              "      <td>5</td>\n",
              "      <td>0</td>\n",
              "      <td>19</td>\n",
              "      <td>0</td>\n",
              "    </tr>\n",
              "    <tr>\n",
              "      <th>1618</th>\n",
              "      <td>0</td>\n",
              "      <td>0</td>\n",
              "      <td>0</td>\n",
              "      <td>0</td>\n",
              "      <td>0</td>\n",
              "      <td>0</td>\n",
              "      <td>0</td>\n",
              "      <td>0</td>\n",
              "      <td>0</td>\n",
              "      <td>0</td>\n",
              "      <td>...</td>\n",
              "      <td>0</td>\n",
              "      <td>0</td>\n",
              "      <td>43</td>\n",
              "      <td>0</td>\n",
              "      <td>0</td>\n",
              "      <td>0</td>\n",
              "      <td>0</td>\n",
              "      <td>0</td>\n",
              "      <td>0</td>\n",
              "      <td>0</td>\n",
              "    </tr>\n",
              "    <tr>\n",
              "      <th>1619</th>\n",
              "      <td>1</td>\n",
              "      <td>0</td>\n",
              "      <td>0</td>\n",
              "      <td>0</td>\n",
              "      <td>0</td>\n",
              "      <td>0</td>\n",
              "      <td>142</td>\n",
              "      <td>0</td>\n",
              "      <td>0</td>\n",
              "      <td>0</td>\n",
              "      <td>...</td>\n",
              "      <td>0</td>\n",
              "      <td>0</td>\n",
              "      <td>0</td>\n",
              "      <td>0</td>\n",
              "      <td>0</td>\n",
              "      <td>0</td>\n",
              "      <td>0</td>\n",
              "      <td>0</td>\n",
              "      <td>3</td>\n",
              "      <td>0</td>\n",
              "    </tr>\n",
              "  </tbody>\n",
              "</table>\n",
              "<p>1620 rows × 125 columns</p>\n",
              "</div>\n",
              "    <div class=\"colab-df-buttons\">\n",
              "\n",
              "  <div class=\"colab-df-container\">\n",
              "    <button class=\"colab-df-convert\" onclick=\"convertToInteractive('df-610f4a7c-6746-46b4-bbda-3041460e81bd')\"\n",
              "            title=\"Convert this dataframe to an interactive table.\"\n",
              "            style=\"display:none;\">\n",
              "\n",
              "  <svg xmlns=\"http://www.w3.org/2000/svg\" height=\"24px\" viewBox=\"0 -960 960 960\">\n",
              "    <path d=\"M120-120v-720h720v720H120Zm60-500h600v-160H180v160Zm220 220h160v-160H400v160Zm0 220h160v-160H400v160ZM180-400h160v-160H180v160Zm440 0h160v-160H620v160ZM180-180h160v-160H180v160Zm440 0h160v-160H620v160Z\"/>\n",
              "  </svg>\n",
              "    </button>\n",
              "\n",
              "  <style>\n",
              "    .colab-df-container {\n",
              "      display:flex;\n",
              "      gap: 12px;\n",
              "    }\n",
              "\n",
              "    .colab-df-convert {\n",
              "      background-color: #E8F0FE;\n",
              "      border: none;\n",
              "      border-radius: 50%;\n",
              "      cursor: pointer;\n",
              "      display: none;\n",
              "      fill: #1967D2;\n",
              "      height: 32px;\n",
              "      padding: 0 0 0 0;\n",
              "      width: 32px;\n",
              "    }\n",
              "\n",
              "    .colab-df-convert:hover {\n",
              "      background-color: #E2EBFA;\n",
              "      box-shadow: 0px 1px 2px rgba(60, 64, 67, 0.3), 0px 1px 3px 1px rgba(60, 64, 67, 0.15);\n",
              "      fill: #174EA6;\n",
              "    }\n",
              "\n",
              "    .colab-df-buttons div {\n",
              "      margin-bottom: 4px;\n",
              "    }\n",
              "\n",
              "    [theme=dark] .colab-df-convert {\n",
              "      background-color: #3B4455;\n",
              "      fill: #D2E3FC;\n",
              "    }\n",
              "\n",
              "    [theme=dark] .colab-df-convert:hover {\n",
              "      background-color: #434B5C;\n",
              "      box-shadow: 0px 1px 3px 1px rgba(0, 0, 0, 0.15);\n",
              "      filter: drop-shadow(0px 1px 2px rgba(0, 0, 0, 0.3));\n",
              "      fill: #FFFFFF;\n",
              "    }\n",
              "  </style>\n",
              "\n",
              "    <script>\n",
              "      const buttonEl =\n",
              "        document.querySelector('#df-610f4a7c-6746-46b4-bbda-3041460e81bd button.colab-df-convert');\n",
              "      buttonEl.style.display =\n",
              "        google.colab.kernel.accessAllowed ? 'block' : 'none';\n",
              "\n",
              "      async function convertToInteractive(key) {\n",
              "        const element = document.querySelector('#df-610f4a7c-6746-46b4-bbda-3041460e81bd');\n",
              "        const dataTable =\n",
              "          await google.colab.kernel.invokeFunction('convertToInteractive',\n",
              "                                                    [key], {});\n",
              "        if (!dataTable) return;\n",
              "\n",
              "        const docLinkHtml = 'Like what you see? Visit the ' +\n",
              "          '<a target=\"_blank\" href=https://colab.research.google.com/notebooks/data_table.ipynb>data table notebook</a>'\n",
              "          + ' to learn more about interactive tables.';\n",
              "        element.innerHTML = '';\n",
              "        dataTable['output_type'] = 'display_data';\n",
              "        await google.colab.output.renderOutput(dataTable, element);\n",
              "        const docLink = document.createElement('div');\n",
              "        docLink.innerHTML = docLinkHtml;\n",
              "        element.appendChild(docLink);\n",
              "      }\n",
              "    </script>\n",
              "  </div>\n",
              "\n",
              "\n",
              "<div id=\"df-ef9b50b6-6173-4128-bf43-ad67770eb715\">\n",
              "  <button class=\"colab-df-quickchart\" onclick=\"quickchart('df-ef9b50b6-6173-4128-bf43-ad67770eb715')\"\n",
              "            title=\"Suggest charts\"\n",
              "            style=\"display:none;\">\n",
              "\n",
              "<svg xmlns=\"http://www.w3.org/2000/svg\" height=\"24px\"viewBox=\"0 0 24 24\"\n",
              "     width=\"24px\">\n",
              "    <g>\n",
              "        <path d=\"M19 3H5c-1.1 0-2 .9-2 2v14c0 1.1.9 2 2 2h14c1.1 0 2-.9 2-2V5c0-1.1-.9-2-2-2zM9 17H7v-7h2v7zm4 0h-2V7h2v10zm4 0h-2v-4h2v4z\"/>\n",
              "    </g>\n",
              "</svg>\n",
              "  </button>\n",
              "\n",
              "<style>\n",
              "  .colab-df-quickchart {\n",
              "      --bg-color: #E8F0FE;\n",
              "      --fill-color: #1967D2;\n",
              "      --hover-bg-color: #E2EBFA;\n",
              "      --hover-fill-color: #174EA6;\n",
              "      --disabled-fill-color: #AAA;\n",
              "      --disabled-bg-color: #DDD;\n",
              "  }\n",
              "\n",
              "  [theme=dark] .colab-df-quickchart {\n",
              "      --bg-color: #3B4455;\n",
              "      --fill-color: #D2E3FC;\n",
              "      --hover-bg-color: #434B5C;\n",
              "      --hover-fill-color: #FFFFFF;\n",
              "      --disabled-bg-color: #3B4455;\n",
              "      --disabled-fill-color: #666;\n",
              "  }\n",
              "\n",
              "  .colab-df-quickchart {\n",
              "    background-color: var(--bg-color);\n",
              "    border: none;\n",
              "    border-radius: 50%;\n",
              "    cursor: pointer;\n",
              "    display: none;\n",
              "    fill: var(--fill-color);\n",
              "    height: 32px;\n",
              "    padding: 0;\n",
              "    width: 32px;\n",
              "  }\n",
              "\n",
              "  .colab-df-quickchart:hover {\n",
              "    background-color: var(--hover-bg-color);\n",
              "    box-shadow: 0 1px 2px rgba(60, 64, 67, 0.3), 0 1px 3px 1px rgba(60, 64, 67, 0.15);\n",
              "    fill: var(--button-hover-fill-color);\n",
              "  }\n",
              "\n",
              "  .colab-df-quickchart-complete:disabled,\n",
              "  .colab-df-quickchart-complete:disabled:hover {\n",
              "    background-color: var(--disabled-bg-color);\n",
              "    fill: var(--disabled-fill-color);\n",
              "    box-shadow: none;\n",
              "  }\n",
              "\n",
              "  .colab-df-spinner {\n",
              "    border: 2px solid var(--fill-color);\n",
              "    border-color: transparent;\n",
              "    border-bottom-color: var(--fill-color);\n",
              "    animation:\n",
              "      spin 1s steps(1) infinite;\n",
              "  }\n",
              "\n",
              "  @keyframes spin {\n",
              "    0% {\n",
              "      border-color: transparent;\n",
              "      border-bottom-color: var(--fill-color);\n",
              "      border-left-color: var(--fill-color);\n",
              "    }\n",
              "    20% {\n",
              "      border-color: transparent;\n",
              "      border-left-color: var(--fill-color);\n",
              "      border-top-color: var(--fill-color);\n",
              "    }\n",
              "    30% {\n",
              "      border-color: transparent;\n",
              "      border-left-color: var(--fill-color);\n",
              "      border-top-color: var(--fill-color);\n",
              "      border-right-color: var(--fill-color);\n",
              "    }\n",
              "    40% {\n",
              "      border-color: transparent;\n",
              "      border-right-color: var(--fill-color);\n",
              "      border-top-color: var(--fill-color);\n",
              "    }\n",
              "    60% {\n",
              "      border-color: transparent;\n",
              "      border-right-color: var(--fill-color);\n",
              "    }\n",
              "    80% {\n",
              "      border-color: transparent;\n",
              "      border-right-color: var(--fill-color);\n",
              "      border-bottom-color: var(--fill-color);\n",
              "    }\n",
              "    90% {\n",
              "      border-color: transparent;\n",
              "      border-bottom-color: var(--fill-color);\n",
              "    }\n",
              "  }\n",
              "</style>\n",
              "\n",
              "  <script>\n",
              "    async function quickchart(key) {\n",
              "      const quickchartButtonEl =\n",
              "        document.querySelector('#' + key + ' button');\n",
              "      quickchartButtonEl.disabled = true;  // To prevent multiple clicks.\n",
              "      quickchartButtonEl.classList.add('colab-df-spinner');\n",
              "      try {\n",
              "        const charts = await google.colab.kernel.invokeFunction(\n",
              "            'suggestCharts', [key], {});\n",
              "      } catch (error) {\n",
              "        console.error('Error during call to suggestCharts:', error);\n",
              "      }\n",
              "      quickchartButtonEl.classList.remove('colab-df-spinner');\n",
              "      quickchartButtonEl.classList.add('colab-df-quickchart-complete');\n",
              "    }\n",
              "    (() => {\n",
              "      let quickchartButtonEl =\n",
              "        document.querySelector('#df-ef9b50b6-6173-4128-bf43-ad67770eb715 button');\n",
              "      quickchartButtonEl.style.display =\n",
              "        google.colab.kernel.accessAllowed ? 'block' : 'none';\n",
              "    })();\n",
              "  </script>\n",
              "</div>\n",
              "\n",
              "  <div id=\"id_82739267-0520-492e-bd86-0e603f200e92\">\n",
              "    <style>\n",
              "      .colab-df-generate {\n",
              "        background-color: #E8F0FE;\n",
              "        border: none;\n",
              "        border-radius: 50%;\n",
              "        cursor: pointer;\n",
              "        display: none;\n",
              "        fill: #1967D2;\n",
              "        height: 32px;\n",
              "        padding: 0 0 0 0;\n",
              "        width: 32px;\n",
              "      }\n",
              "\n",
              "      .colab-df-generate:hover {\n",
              "        background-color: #E2EBFA;\n",
              "        box-shadow: 0px 1px 2px rgba(60, 64, 67, 0.3), 0px 1px 3px 1px rgba(60, 64, 67, 0.15);\n",
              "        fill: #174EA6;\n",
              "      }\n",
              "\n",
              "      [theme=dark] .colab-df-generate {\n",
              "        background-color: #3B4455;\n",
              "        fill: #D2E3FC;\n",
              "      }\n",
              "\n",
              "      [theme=dark] .colab-df-generate:hover {\n",
              "        background-color: #434B5C;\n",
              "        box-shadow: 0px 1px 3px 1px rgba(0, 0, 0, 0.15);\n",
              "        filter: drop-shadow(0px 1px 2px rgba(0, 0, 0, 0.3));\n",
              "        fill: #FFFFFF;\n",
              "      }\n",
              "    </style>\n",
              "    <button class=\"colab-df-generate\" onclick=\"generateWithVariable('X')\"\n",
              "            title=\"Generate code using this dataframe.\"\n",
              "            style=\"display:none;\">\n",
              "\n",
              "  <svg xmlns=\"http://www.w3.org/2000/svg\" height=\"24px\"viewBox=\"0 0 24 24\"\n",
              "       width=\"24px\">\n",
              "    <path d=\"M7,19H8.4L18.45,9,17,7.55,7,17.6ZM5,21V16.75L18.45,3.32a2,2,0,0,1,2.83,0l1.4,1.43a1.91,1.91,0,0,1,.58,1.4,1.91,1.91,0,0,1-.58,1.4L9.25,21ZM18.45,9,17,7.55Zm-12,3A5.31,5.31,0,0,0,4.9,8.1,5.31,5.31,0,0,0,1,6.5,5.31,5.31,0,0,0,4.9,4.9,5.31,5.31,0,0,0,6.5,1,5.31,5.31,0,0,0,8.1,4.9,5.31,5.31,0,0,0,12,6.5,5.46,5.46,0,0,0,6.5,12Z\"/>\n",
              "  </svg>\n",
              "    </button>\n",
              "    <script>\n",
              "      (() => {\n",
              "      const buttonEl =\n",
              "        document.querySelector('#id_82739267-0520-492e-bd86-0e603f200e92 button.colab-df-generate');\n",
              "      buttonEl.style.display =\n",
              "        google.colab.kernel.accessAllowed ? 'block' : 'none';\n",
              "\n",
              "      buttonEl.onclick = () => {\n",
              "        google.colab.notebook.generateWithVariable('X');\n",
              "      }\n",
              "      })();\n",
              "    </script>\n",
              "  </div>\n",
              "\n",
              "    </div>\n",
              "  </div>\n"
            ],
            "application/vnd.google.colaboratory.intrinsic+json": {
              "type": "dataframe",
              "variable_name": "X"
            }
          },
          "metadata": {},
          "execution_count": 3
        }
      ]
    },
    {
      "cell_type": "markdown",
      "source": [
        "##Turn data into tensors and create a train and test split"
      ],
      "metadata": {
        "id": "VSnePxf3OEjD"
      }
    },
    {
      "cell_type": "code",
      "source": [
        "import torch"
      ],
      "metadata": {
        "id": "oVO5ZeTqNJMS"
      },
      "execution_count": 4,
      "outputs": []
    },
    {
      "cell_type": "code",
      "source": [
        "X_numpy = X.values\n",
        "y_numpy = y.values\n",
        "# Convert numpy array to PyTorch tensor\n",
        "X = torch.tensor(X_numpy, dtype=torch.float)\n",
        "y = torch.tensor(y_numpy, dtype=torch.float)"
      ],
      "metadata": {
        "id": "9iqiTzhtOXS0"
      },
      "execution_count": 5,
      "outputs": []
    },
    {
      "cell_type": "code",
      "source": [
        "X=X.t()"
      ],
      "metadata": {
        "id": "5vkJcTUiaGAW"
      },
      "execution_count": 6,
      "outputs": []
    },
    {
      "cell_type": "code",
      "source": [
        "X.shape"
      ],
      "metadata": {
        "colab": {
          "base_uri": "https://localhost:8080/"
        },
        "id": "Gu_e3o4yky6B",
        "outputId": "705d5da3-521b-4c8e-97ab-bee202865234"
      },
      "execution_count": 7,
      "outputs": [
        {
          "output_type": "execute_result",
          "data": {
            "text/plain": [
              "torch.Size([125, 1620])"
            ]
          },
          "metadata": {},
          "execution_count": 7
        }
      ]
    },
    {
      "cell_type": "code",
      "source": [
        "mean = X.mean(dim=0)\n",
        "std = X.std(dim=0)\n",
        "X = (X - mean) / (std + 1e-6)  # Adding a small epsilon to avoid division by zero"
      ],
      "metadata": {
        "id": "XPRTGQP-aNBL"
      },
      "execution_count": 8,
      "outputs": []
    },
    {
      "cell_type": "code",
      "source": [
        "# We will now split the data into training and test sets\n",
        "from sklearn.model_selection import train_test_split\n",
        "\n",
        "X_train,X_test, y_train, y_test=train_test_split(X,\n",
        "                                                 y,\n",
        "                                                 test_size=0.2,\n",
        "                                                 random_state=42)\n",
        "\n",
        "X_train[:10],X_test[:10],len(y_train),len(y_test)"
      ],
      "metadata": {
        "colab": {
          "base_uri": "https://localhost:8080/"
        },
        "id": "-ulRJcMwOZjw",
        "outputId": "ead78b25-5f82-48be-aea0-4ce9a4589d60"
      },
      "execution_count": 9,
      "outputs": [
        {
          "output_type": "execute_result",
          "data": {
            "text/plain": [
              "(tensor([[-0.1646, -0.1091, -0.1601,  ..., -0.2164, -0.1448, -0.2698],\n",
              "         [-0.1646, -0.1091, -0.2046,  ...,  1.2689, -0.1448, -0.0954],\n",
              "         [-0.1521, -0.1091, -0.1156,  ..., -0.2164, -0.1448,  1.4745],\n",
              "         ...,\n",
              "         [-0.1584, -0.1091, -0.2490,  ..., -0.2164, -0.1448, -0.2698],\n",
              "         [-0.1646, -0.1091, -0.2490,  ..., -0.2164, -0.1448, -0.2698],\n",
              "         [-0.1584, -0.1091, -0.2490,  ..., -0.2164, -0.1448, -0.2698]]),\n",
              " tensor([[-0.1646, -0.1091, -0.2490,  ..., -0.2164, -0.1448, -0.2698],\n",
              "         [-0.1646, -0.1091, -0.2490,  ..., -0.2164, -0.1448, -0.2698],\n",
              "         [ 0.3603, -0.1091, -0.2046,  ...,  0.0572, -0.1448, -0.2698],\n",
              "         ...,\n",
              "         [-0.1646, -0.1091,  1.3074,  ...,  0.5263, -0.1448, -0.0954],\n",
              "         [-0.1646, -0.1091, -0.2490,  ...,  0.1745, -0.1448, -0.2698],\n",
              "         [-0.1646, -0.1091, -0.2490,  ..., -0.2164, -0.1448, -0.2698]]),\n",
              " 100,\n",
              " 25)"
            ]
          },
          "metadata": {},
          "execution_count": 9
        }
      ]
    },
    {
      "cell_type": "markdown",
      "source": [
        "## building a model\n",
        "\n",
        "building a model to classify our blue and red dots\n",
        "\n",
        "we want to:\n",
        "1. Setup device agonistic code so our code will run on an accelerator(GPU) if there is one not really necessary here, but good practice\n",
        "\n",
        "2. Construct a model(subclassing nn.Module)\n",
        "3. Define a loss function and optimizer\n",
        "4. Create a training and testing loop"
      ],
      "metadata": {
        "id": "t410JHJzTYl2"
      }
    },
    {
      "cell_type": "code",
      "source": [
        "import torch\n",
        "from torch import nn\n",
        "\n",
        "#Make device agnostic code\n",
        "device=\"cuda\" if torch.cuda.is_available() else \"cpu\"\n",
        "device"
      ],
      "metadata": {
        "colab": {
          "base_uri": "https://localhost:8080/",
          "height": 35
        },
        "id": "fU2CdPVQPS1C",
        "outputId": "99a3007b-bd73-4a1b-fe77-b6c11da74aaa"
      },
      "execution_count": 10,
      "outputs": [
        {
          "output_type": "execute_result",
          "data": {
            "text/plain": [
              "'cpu'"
            ],
            "application/vnd.google.colaboratory.intrinsic+json": {
              "type": "string"
            }
          },
          "metadata": {},
          "execution_count": 10
        }
      ]
    },
    {
      "cell_type": "markdown",
      "source": [
        "Now we've setup device agnostic code, let's create a model that:\n",
        "\n",
        "1. Subclasses '`nn.Module`'(almost all models in pyTorch subclass `nn.module`)\n",
        "2. We will start with 2`nn.Linear()` layers that are capable of handeling the shapes of our data\n",
        "3. Defines a `forward()` method the outlines the forward pass(or forward computation) of the model\n",
        "4. Instatiate an intance of our model class and sent it to terget `device`\n",
        "\n"
      ],
      "metadata": {
        "id": "iM2QXI56UKMn"
      }
    },
    {
      "cell_type": "code",
      "source": [
        "# in oreder to decide the \"in_features\" in our first layer we need to know our features shape\n",
        "X_test[:10]\n"
      ],
      "metadata": {
        "id": "l0XVefRCVZa6",
        "colab": {
          "base_uri": "https://localhost:8080/"
        },
        "outputId": "76c6af87-2ef1-4a0e-8cf6-0debf2822bb0"
      },
      "execution_count": 11,
      "outputs": [
        {
          "output_type": "execute_result",
          "data": {
            "text/plain": [
              "tensor([[-0.1646, -0.1091, -0.2490,  ..., -0.2164, -0.1448, -0.2698],\n",
              "        [-0.1646, -0.1091, -0.2490,  ..., -0.2164, -0.1448, -0.2698],\n",
              "        [ 0.3603, -0.1091, -0.2046,  ...,  0.0572, -0.1448, -0.2698],\n",
              "        ...,\n",
              "        [-0.1646, -0.1091,  1.3074,  ...,  0.5263, -0.1448, -0.0954],\n",
              "        [-0.1646, -0.1091, -0.2490,  ...,  0.1745, -0.1448, -0.2698],\n",
              "        [-0.1646, -0.1091, -0.2490,  ..., -0.2164, -0.1448, -0.2698]])"
            ]
          },
          "metadata": {},
          "execution_count": 11
        }
      ]
    },
    {
      "cell_type": "code",
      "source": [
        "## how linear the data\n",
        "\n",
        "# from sklearn.linear_model import LogisticRegression\n",
        "# logreg = LogisticRegression()\n",
        "# logreg.fit(X_train, y_train)\n",
        "# lgs = logreg.score(X_test,y_test)\n",
        "# print(lgs)"
      ],
      "metadata": {
        "id": "jxV1vbAA9FAm"
      },
      "execution_count": 12,
      "outputs": []
    },
    {
      "cell_type": "code",
      "source": [
        "# construct a model that subclasses nn.module, **Version 0**\n",
        "class FibromyalgiaV0(nn.Module):\n",
        "  def __init__(self):\n",
        "    super().__init__()\n",
        "\n",
        "    self.layer_1 = nn.Linear(in_features=1620, out_features=64) # takes a full cordinate of 'X_train' and downscales it to 64 features\n",
        "    self.layer_2 = nn.Linear(in_features=64, out_features=1) # takes the previous out 64 features and turns it to the expected output\n",
        "  def forward(self,x):\n",
        "    return self.layer_2(self.layer_1(x)) # x -> layer_1 -> layer_2 -> output\n",
        "\n",
        "model_0 = FibromyalgiaV0().to(device)\n",
        "model_0"
      ],
      "metadata": {
        "colab": {
          "base_uri": "https://localhost:8080/"
        },
        "id": "Yh9NROPkuwOf",
        "outputId": "f8075ed6-fecb-4197-fc5f-1cee72f9d5b1"
      },
      "execution_count": 13,
      "outputs": [
        {
          "output_type": "execute_result",
          "data": {
            "text/plain": [
              "FibromyalgiaV0(\n",
              "  (layer_1): Linear(in_features=1620, out_features=64, bias=True)\n",
              "  (layer_2): Linear(in_features=64, out_features=1, bias=True)\n",
              ")"
            ]
          },
          "metadata": {},
          "execution_count": 13
        }
      ]
    },
    {
      "cell_type": "code",
      "source": [
        "# Make predictions\n",
        "with torch.inference_mode():\n",
        "  untrained_preds= model_0(X_test.to(device))\n",
        "print(f\"Length of predictions: {len(untrained_preds)}, Shape: {untrained_preds.shape}\")\n",
        "print(f\"Length of test samples: {len(y_test)}, Shape: {y_test.shape}\")\n",
        "print(f\"\\n First 10 predictions:\\n {untrained_preds[:10]} \")\n",
        "print(f\"\\n First 10 labels:\\n {y_test[:10]} \")"
      ],
      "metadata": {
        "colab": {
          "base_uri": "https://localhost:8080/"
        },
        "id": "2Ulq5yo7XKUm",
        "outputId": "ab08e2e4-3b7c-4264-aa65-59b5110496a8"
      },
      "execution_count": 14,
      "outputs": [
        {
          "output_type": "stream",
          "name": "stdout",
          "text": [
            "Length of predictions: 25, Shape: torch.Size([25, 1])\n",
            "Length of test samples: 25, Shape: torch.Size([25])\n",
            "\n",
            " First 10 predictions:\n",
            " tensor([[ 0.1975],\n",
            "        [ 0.1709],\n",
            "        [-0.0870],\n",
            "        [-0.1318],\n",
            "        [ 0.0769],\n",
            "        [ 0.0737],\n",
            "        [ 0.3600],\n",
            "        [-0.2168],\n",
            "        [ 0.4327],\n",
            "        [ 0.0655]]) \n",
            "\n",
            " First 10 labels:\n",
            " tensor([0., 0., 0., 1., 1., 1., 1., 1., 1., 0.]) \n"
          ]
        }
      ]
    },
    {
      "cell_type": "code",
      "source": [
        "# Setup the loss function, the mission is to classify, so we will might want to use cross-entropy\n",
        "loss_fn= nn.BCEWithLogitsLoss() # BCEWithLogitLoss = sgmoid activation function built-in\n",
        "\n",
        "optimizer = torch.optim.SGD(params=model_0.parameters(),\n",
        "                            lr=0.01)"
      ],
      "metadata": {
        "id": "XngEwY64XTua"
      },
      "execution_count": 15,
      "outputs": []
    },
    {
      "cell_type": "code",
      "source": [
        "#Calaculate accuracy\n",
        "def accuarcy_fn(y_true,y_pred):\n",
        "  correct=torch.eq(y_true,y_pred).sum().item()\n",
        "  acc = (correct/len(y_pred)) *100\n",
        "  return acc"
      ],
      "metadata": {
        "id": "MeAY1caNZF2K"
      },
      "execution_count": 16,
      "outputs": []
    },
    {
      "cell_type": "markdown",
      "source": [
        "## Train model\n",
        "\n",
        "1. Forward pass\n",
        "2. Calculate the loss\n",
        "3. optimizer zero grad\n",
        "4. Loss backwards (backpropagation)\n",
        "5. Optimizer step (gardient descent)"
      ],
      "metadata": {
        "id": "_aVLDgj3ZL12"
      }
    },
    {
      "cell_type": "markdown",
      "source": [
        "### 1. Going from raw logits -> prediction probablities -> prediction labelss\n",
        "\n",
        "our model outputs are going to be raw **logits**.\n",
        "\n",
        "we can conveert these **logits** into **prediction propabilities** by passing them to some kind of activation function(e.g. sigmoid for binary classification and softmax for multiclass classification).\n",
        "Then we can convert our model's prediction probabilities to **prediction labels** by either rounding them or taking the `argmax()`."
      ],
      "metadata": {
        "id": "0dwwzrn_ZPFu"
      }
    },
    {
      "cell_type": "code",
      "source": [
        "# view the first 5 outputs of the forward pass on the test data\n",
        "model_0.eval()\n",
        "with torch.inference_mode():\n",
        "  y_logits=model_0(X_test.to(device))[:5]\n",
        "y_logits"
      ],
      "metadata": {
        "colab": {
          "base_uri": "https://localhost:8080/"
        },
        "id": "g-fWvBLTZJSA",
        "outputId": "e96556cc-4039-4085-f373-2280b16230b2"
      },
      "execution_count": 17,
      "outputs": [
        {
          "output_type": "execute_result",
          "data": {
            "text/plain": [
              "tensor([[ 0.1975],\n",
              "        [ 0.1709],\n",
              "        [-0.0870],\n",
              "        [-0.1318],\n",
              "        [ 0.0769]])"
            ]
          },
          "metadata": {},
          "execution_count": 17
        }
      ]
    },
    {
      "cell_type": "code",
      "source": [
        "# use the sigmoid activation function on our model logits in order to turn them to propabilities\n",
        "y_pred_probs = torch.sigmoid(y_logits)\n",
        "y_pred_probs"
      ],
      "metadata": {
        "colab": {
          "base_uri": "https://localhost:8080/"
        },
        "id": "jN3VoB9cZhMW",
        "outputId": "ec95700a-d55c-42dc-e268-e70af433fe72"
      },
      "execution_count": 18,
      "outputs": [
        {
          "output_type": "execute_result",
          "data": {
            "text/plain": [
              "tensor([[0.5492],\n",
              "        [0.5426],\n",
              "        [0.4783],\n",
              "        [0.4671],\n",
              "        [0.5192]])"
            ]
          },
          "metadata": {},
          "execution_count": 18
        }
      ]
    },
    {
      "cell_type": "code",
      "source": [
        "# Find the predicted lebels\n",
        "y_preds =torch.round(y_pred_probs)\n",
        "\n",
        "# In Full (logits -> pred probs -> pred labels)\n",
        "y_pred_labels = torch.round(torch.sigmoid(model_0(X_test.to(device))[:5]))\n",
        "\n",
        "# Check for equality\n",
        "print(torch.eq(y_preds.squeeze(),y_pred_labels.squeeze()))"
      ],
      "metadata": {
        "colab": {
          "base_uri": "https://localhost:8080/"
        },
        "id": "PEsqTrILZpeo",
        "outputId": "cd2213c5-c9b1-4108-c42e-dd99d14c76c4"
      },
      "execution_count": 19,
      "outputs": [
        {
          "output_type": "stream",
          "name": "stdout",
          "text": [
            "tensor([True, True, True, True, True])\n"
          ]
        }
      ]
    },
    {
      "cell_type": "markdown",
      "source": [
        "# Building the training and test loop\n",
        "\n"
      ],
      "metadata": {
        "id": "vrRJPRTxa1u3"
      }
    },
    {
      "cell_type": "code",
      "source": [
        "torch.manual_seed(42)\n",
        "test_loss=prev_loss=1\n",
        "\n",
        "# Set the number of epoches\n",
        "epochs = 300\n",
        "\n",
        "# put data to target device\n",
        "X_train,y_train = X_train.to(device), y_train.to(device)\n",
        "X_test, y_test = X_test.to(device), y_test.to(device)\n",
        "\n",
        "# Build training and evaluation loop\n",
        "for  epoch in range(epochs):\n",
        "  ###Training\n",
        "  prev_loss = test_loss\n",
        "  model_0.train()\n",
        "\n",
        "  # 1. Forward pass\n",
        "  y_logits = model_0(X_train).squeeze()\n",
        "  y_pred = torch.round(torch.sigmoid(y_logits)) # raw logits -> predoction propabilities -> prediction labels\n",
        "\n",
        "  #Calculate the loss\n",
        "  '''\n",
        "  nn.BCELoss insted of nn.BCEWithLogitsLoss\n",
        "    loss = loss_fn(torch.sigmoid(y_logits)\n",
        "                    ,y_train)\n",
        "  '''\n",
        "  train_loss = loss_fn(y_logits,\n",
        "                 y_train)\n",
        "  train_acc = accuarcy_fn(y_true=y_train,\n",
        "                    y_pred=y_pred)\n",
        "  # 3.Optimize zero grad\n",
        "  optimizer.zero_grad()\n",
        "\n",
        "  # 4. Loss backward\n",
        "  train_loss.backward()\n",
        "\n",
        "  # 5. Optimizer step\n",
        "  optimizer.step()\n",
        "\n",
        "  ###testing\n",
        "  model_0.eval()\n",
        "  with torch.inference_mode():\n",
        "    #1. Forward pass\n",
        "    test_logits = model_0(X_test).squeeze()\n",
        "    test_pred = torch.round(torch.sigmoid(test_logits))\n",
        "\n",
        "    #2. Calculate test loss and acc\n",
        "    test_loss= loss_fn(test_logits,\n",
        "                       y_test)\n",
        "    test_acc= accuarcy_fn(y_true=y_test,\n",
        "                          y_pred=test_pred)\n",
        "  if epoch % 50 == 0:\n",
        "    print(f\"Epoch= {epoch} | Train_Loss = {train_loss:.5f} |  Train_Accuarcy = {train_acc:.2f} | Test_Loss = {test_loss:.5f} | Test_Accuracy = {test_acc:.2f}\")\n"
      ],
      "metadata": {
        "id": "IwNBtB2pascT",
        "colab": {
          "base_uri": "https://localhost:8080/"
        },
        "outputId": "fd811acb-dc66-4b22-8e5f-e5f466e8d600"
      },
      "execution_count": 20,
      "outputs": [
        {
          "output_type": "stream",
          "name": "stdout",
          "text": [
            "Epoch= 0 | Train_Loss = 0.70751 |  Train_Accuarcy = 53.00 | Test_Loss = 0.69285 | Test_Accuracy = 40.00\n",
            "Epoch= 50 | Train_Loss = 0.30102 |  Train_Accuarcy = 98.00 | Test_Loss = 0.59185 | Test_Accuracy = 68.00\n",
            "Epoch= 100 | Train_Loss = 0.13571 |  Train_Accuarcy = 100.00 | Test_Loss = 0.59696 | Test_Accuracy = 68.00\n",
            "Epoch= 150 | Train_Loss = 0.07162 |  Train_Accuarcy = 100.00 | Test_Loss = 0.62893 | Test_Accuracy = 68.00\n",
            "Epoch= 200 | Train_Loss = 0.04428 |  Train_Accuarcy = 100.00 | Test_Loss = 0.66404 | Test_Accuracy = 64.00\n",
            "Epoch= 250 | Train_Loss = 0.03056 |  Train_Accuarcy = 100.00 | Test_Loss = 0.69690 | Test_Accuracy = 60.00\n"
          ]
        }
      ]
    },
    {
      "cell_type": "markdown",
      "source": [
        "### Notice\n",
        "\n",
        "from the metrics above we can see that the gap between the `Train_Loss` and the `Test_Loss` keep rising, which may indecates us to over fitting, which is propably related to the fact that our data is small.\n",
        "we will try to over come the over fitting by using cross-validation"
      ],
      "metadata": {
        "id": "9U6V82J3hfEF"
      }
    },
    {
      "cell_type": "code",
      "source": [
        "# We will now use the same model but in Cross-Validation approach\n",
        "from sklearn.model_selection import KFold\n",
        "import matplotlib.pyplot as plt\n",
        "import numpy as np\n",
        "\n",
        "\n",
        "torch.manual_seed(42)\n",
        "k = 5\n",
        "\n",
        "# Initialize a KFold object\n",
        "kf = KFold(n_splits=k, shuffle=True, random_state=42)\n",
        "epoches = 300\n",
        "\n",
        "accuracy_scores = []\n",
        "i=0\n",
        "\n",
        "# Perform k-fold cross-validation\n",
        "for train_index, test_index in kf.split(X_train):\n",
        "    i+=1\n",
        "    X_fold_train, X_validation = X_train[train_index].to(device), X_train[test_index].to(device)\n",
        "    y_fold_train, y_validation = y_train[train_index].to(device), y_train[test_index].to(device)\n",
        "\n",
        "    # Build training and evaluation loop\n",
        "    for epoch in range(epoches):\n",
        "      ###Training\n",
        "      model_0.train()\n",
        "\n",
        "      # 1. Forward pass\n",
        "      y_logits = model_0(X_fold_train).squeeze()\n",
        "      y_pred = torch.round(torch.sigmoid(y_logits)) # raw logits -> predoction propabilities -> prediction labels\n",
        "\n",
        "      #Calculate the loss\n",
        "      '''\n",
        "      nn.BCELoss insted of nn.BCEWithLogitsLoss\n",
        "        loss = loss_fn(torch.sigmoid(y_logits)\n",
        "                        ,y_train)\n",
        "      '''\n",
        "      train_loss = loss_fn(y_logits,\n",
        "                    y_fold_train)\n",
        "      train_acc = accuarcy_fn(y_true=y_fold_train,\n",
        "                        y_pred=y_pred)\n",
        "      # 3.Optimize zero grad\n",
        "      optimizer.zero_grad()\n",
        "\n",
        "      # 4. Loss backward\n",
        "      train_loss.backward()\n",
        "\n",
        "      # 5. Optimizer step\n",
        "      optimizer.step()\n",
        "\n",
        "      ###testing\n",
        "      model_0.eval()\n",
        "      with torch.inference_mode():\n",
        "        #1. Forward pass\n",
        "        test_logits = model_0(X_validation).squeeze()\n",
        "        test_pred = torch.round(torch.sigmoid(test_logits))\n",
        "\n",
        "        #2. Calculate test loss and acc\n",
        "        test_loss= loss_fn(test_logits,\n",
        "                          y_validation)\n",
        "        test_acc= accuarcy_fn(y_true=y_validation,\n",
        "                              y_pred=test_pred)\n",
        "    accuracy_scores.append(test_acc)\n",
        "    print(f\"Fold= {i} | Train_Loss = {train_loss:.5f} |  Train_Accuarcy = {train_acc:.2f} | Test_Loss = {test_loss:.5f} | Test_Accuracy = {test_acc:.2f}\")\n",
        "\n",
        "# Plot the performance metric for each fold\n",
        "plt.figure(figsize=(8, 6))\n",
        "plt.plot(np.arange(1, k+1), accuracy_scores, marker='o', linestyle='-', color='b')\n",
        "plt.xlabel('Fold')\n",
        "plt.ylabel('Accuracy')\n",
        "plt.title('Accuracy for each fold of Cross-Validation')\n",
        "plt.grid(True)\n",
        "plt.show()\n"
      ],
      "metadata": {
        "id": "UQpl2uGPcAGZ",
        "colab": {
          "base_uri": "https://localhost:8080/",
          "height": 651
        },
        "outputId": "96818a65-92fb-44a6-9247-ccf058b8ce79"
      },
      "execution_count": 21,
      "outputs": [
        {
          "output_type": "stream",
          "name": "stdout",
          "text": [
            "Fold= 1 | Train_Loss = 0.00668 |  Train_Accuarcy = 100.00 | Test_Loss = 0.02498 | Test_Accuracy = 100.00\n",
            "Fold= 2 | Train_Loss = 0.00435 |  Train_Accuarcy = 100.00 | Test_Loss = 0.00732 | Test_Accuracy = 100.00\n",
            "Fold= 3 | Train_Loss = 0.00294 |  Train_Accuarcy = 100.00 | Test_Loss = 0.00422 | Test_Accuracy = 100.00\n",
            "Fold= 4 | Train_Loss = 0.00231 |  Train_Accuarcy = 100.00 | Test_Loss = 0.00229 | Test_Accuracy = 100.00\n",
            "Fold= 5 | Train_Loss = 0.00190 |  Train_Accuarcy = 100.00 | Test_Loss = 0.00121 | Test_Accuracy = 100.00\n"
          ]
        },
        {
          "output_type": "display_data",
          "data": {
            "text/plain": [
              "<Figure size 800x600 with 1 Axes>"
            ],
            "image/png": "[encoded data removed]"
          },
          "metadata": {}
        }
      ]
    },
    {
      "cell_type": "code",
      "source": [
        "# check predictions on unseen data\n",
        "model_0.eval()\n",
        "with torch.inference_mode():\n",
        "  #1. Forward pass\n",
        "  test_logits = model_0(X_test).squeeze()\n",
        "  untrained_preds = torch.round(torch.sigmoid(test_logits))\n",
        "\n",
        "print(f\"Length of predictions: {len(untrained_preds)}, Shape: {untrained_preds.shape}\")\n",
        "print(f\"Length of test samples: {len(y_test)}, Shape: {y_test.shape}\")\n",
        "print(f\"\\n First 10 predictions:\\n {untrained_preds[:10]} \")\n",
        "print(f\"\\n First 10 labels:\\n {y_test[:10]} \")\n",
        "test_acc= accuarcy_fn(y_true=y_test,\n",
        "                              y_pred=untrained_preds)\n",
        "print(f\"\\n accuracy: {test_acc:.2f}\")"
      ],
      "metadata": {
        "id": "E7T-QNlLwHFz",
        "colab": {
          "base_uri": "https://localhost:8080/"
        },
        "outputId": "4d526fcc-94f6-4e9d-eaf7-c4fc841823e6"
      },
      "execution_count": 22,
      "outputs": [
        {
          "output_type": "stream",
          "name": "stdout",
          "text": [
            "Length of predictions: 25, Shape: torch.Size([25])\n",
            "Length of test samples: 25, Shape: torch.Size([25])\n",
            "\n",
            " First 10 predictions:\n",
            " tensor([0., 1., 0., 1., 0., 0., 0., 1., 0., 0.]) \n",
            "\n",
            " First 10 labels:\n",
            " tensor([0., 0., 0., 1., 1., 1., 1., 1., 1., 0.]) \n",
            "\n",
            " accuracy: 60.00\n"
          ]
        }
      ]
    },
    {
      "cell_type": "markdown",
      "source": [
        "## Cross-Validation sum up\n",
        "we can see an increse accuracy on unseen data when using Cross-Validation"
      ],
      "metadata": {
        "id": "NmVQDK2TLp5q"
      }
    },
    {
      "cell_type": "markdown",
      "source": [
        "### Maybe improved model?\n",
        "we will try to modify a  new version of our model (`FibromyalgiaV1`), we will add another linear layer (`layer_2`) between the existing `layer_1` and the output layer `layer_3`. We will also applly a ReLU activation function after each linear layer to introduce non-linearity to the model."
      ],
      "metadata": {
        "id": "5r6TF7SYMmBY"
      }
    },
    {
      "cell_type": "markdown",
      "source": [
        "# Model_1"
      ],
      "metadata": {
        "id": "gFykRadugWlQ"
      }
    },
    {
      "cell_type": "code",
      "source": [
        "# construct a model that subclasses nn.module, **Version 1**\n",
        "class FibromyalgiaV1(nn.Module):\n",
        "  def __init__(self):\n",
        "    super().__init__()\n",
        "\n",
        "    self.fc1 = nn.Linear(1620, 64)  # Input size is 1620, output size is 64\n",
        "    #self.dropout = nn.Dropout(p=0.2)  # Specify the dropout probability (e.g., 0.1 for 10% dropout)\n",
        "    self.fc2 = nn.Linear(64, 32)\n",
        "    #self.dropout2 = nn.Dropout(p=0.2)  # Specify the dropout probability (e.g., 0.1 for 10% dropout)\n",
        "    self.fc3 = nn.Linear(32, 1)  # Output size is 1 for binary classification\n",
        "\n",
        "  def forward(self, x):\n",
        "    x = torch.relu(self.fc1(x))    # Apply ReLU activation function\n",
        "    x = torch.tanh(self.fc2(x))  # Apply tanh activation to the second layer\n",
        "    x = self.fc3(x)  # Output layer without activation function\n",
        "    return x\n",
        "\n",
        "model_1 = FibromyalgiaV1().to(device)\n",
        "model_1"
      ],
      "metadata": {
        "colab": {
          "base_uri": "https://localhost:8080/"
        },
        "id": "b8WA8-9bIpgF",
        "outputId": "27aa6298-938f-49e4-9f78-9ea1485c5700"
      },
      "execution_count": 23,
      "outputs": [
        {
          "output_type": "execute_result",
          "data": {
            "text/plain": [
              "FibromyalgiaV1(\n",
              "  (fc1): Linear(in_features=1620, out_features=64, bias=True)\n",
              "  (fc2): Linear(in_features=64, out_features=32, bias=True)\n",
              "  (fc3): Linear(in_features=32, out_features=1, bias=True)\n",
              ")"
            ]
          },
          "metadata": {},
          "execution_count": 23
        }
      ]
    },
    {
      "cell_type": "code",
      "source": [
        "# construct a model that subclasses nn.module, **Version 1**\n",
        "class FibromyalgiaV1B(nn.Module):\n",
        "  def __init__(self):\n",
        "    super().__init__()\n",
        "\n",
        "    self.fc1 = nn.Linear(1620, 50)  # Input size is 1620, output size is 64\n",
        "    #self.dropout = nn.Dropout(p=0.2)  # Specify the dropout probability (e.g., 0.1 for 10% dropout)\n",
        "    self.fc2 = nn.Linear(50, 12)\n",
        "    #self.dropout2 = nn.Dropout(p=0.2)  # Specify the dropout probability (e.g., 0.1 for 10% dropout)\n",
        "    self.fc3 = nn.Linear(12, 1)  # Output size is 1 for binary classification\n",
        "\n",
        "  def forward(self, x):\n",
        "    x = torch.relu(self.fc1(x))    # Apply ReLU activation function\n",
        "    x = torch.tanh(self.fc2(x))  # Apply tanh activation to the second layer\n",
        "    x = self.fc3(x)  # Output layer without activation function\n",
        "    return x\n",
        "\n",
        "model_1B = FibromyalgiaV1B().to(device)\n",
        "model_1B"
      ],
      "metadata": {
        "colab": {
          "base_uri": "https://localhost:8080/"
        },
        "id": "bTV3l6an53hp",
        "outputId": "e72d4a9a-22f8-4242-d022-005eb0b89ff4"
      },
      "execution_count": 24,
      "outputs": [
        {
          "output_type": "execute_result",
          "data": {
            "text/plain": [
              "FibromyalgiaV1B(\n",
              "  (fc1): Linear(in_features=1620, out_features=50, bias=True)\n",
              "  (fc2): Linear(in_features=50, out_features=12, bias=True)\n",
              "  (fc3): Linear(in_features=12, out_features=1, bias=True)\n",
              ")"
            ]
          },
          "metadata": {},
          "execution_count": 24
        }
      ]
    },
    {
      "cell_type": "code",
      "source": [
        "# Setup the loss function, the mission is to classify, so we will might want to use cross-entropy\n",
        "loss_fn= nn.BCEWithLogitsLoss() # BCEWithLogitLoss = sgmoid activation function built-in\n",
        "\n",
        "optimizer = torch.optim.SGD(params=model_1B.parameters(), lr=0.01)"
      ],
      "metadata": {
        "id": "MbHyFbf7Xr2O"
      },
      "execution_count": 25,
      "outputs": []
    },
    {
      "cell_type": "code",
      "source": [
        "# torch.manual_seed(42)\n",
        "\n",
        "# # Set the number of epoches\n",
        "# epochs = 300\n",
        "\n",
        "# # put data to target device\n",
        "# X_train,y_train = X_train.to(device), y_train.to(device)\n",
        "# X_test, y_test = X_test.to(device), y_test.to(device)\n",
        "\n",
        "# # Build training and evaluation loop\n",
        "# for epoch in range(epochs):\n",
        "#   ###Training\n",
        "#   model_1.train()\n",
        "\n",
        "#   # 1. Forward pass\n",
        "#   y_logits = model_1(X_train).squeeze()\n",
        "#   y_pred = torch.round(torch.sigmoid(y_logits)) # raw logits -> predoction propabilities -> prediction labels\n",
        "\n",
        "#   #Calculate the loss\n",
        "#   '''\n",
        "#   nn.BCELoss insted of nn.BCEWithLogitsLoss\n",
        "#     loss = loss_fn(torch.sigmoid(y_logits)\n",
        "#                     ,y_train)\n",
        "#   '''\n",
        "#   train_loss = loss_fn(y_logits,\n",
        "#                  y_train)\n",
        "#   train_acc = accuarcy_fn(y_true=y_train,\n",
        "#                     y_pred=y_pred)\n",
        "#   # 3.Optimize zero grad\n",
        "#   optimizer.zero_grad()\n",
        "\n",
        "#   # 4. Loss backward\n",
        "#   train_loss.backward()\n",
        "\n",
        "#   # 5. Optimizer step\n",
        "#   optimizer.step()\n",
        "\n",
        "#   ###testing\n",
        "#   model_1.eval()\n",
        "#   with torch.inference_mode():\n",
        "#     #1. Forward pass\n",
        "#     test_logits = model_1(X_test).squeeze()\n",
        "#     test_pred = torch.round(torch.sigmoid(test_logits))\n",
        "\n",
        "#     #2. Calculate test loss and acc\n",
        "#     test_loss= loss_fn(test_logits,\n",
        "#                        y_test)\n",
        "#     test_acc= accuarcy_fn(y_true=y_test,\n",
        "#                           y_pred=test_pred)\n",
        "#   if epoch % 50 == 0:\n",
        "#     print(f\"Epoch= {epoch} | Train_Loss = {train_loss:.5f} |  Train_Accuarcy = {train_acc:.2f} | Test_Loss = {test_loss:.5f} | Test_Accuracy = {test_acc:.2f}\")"
      ],
      "metadata": {
        "id": "xutU-hKwUYBK"
      },
      "execution_count": 26,
      "outputs": []
    },
    {
      "cell_type": "code",
      "source": [
        "# We will now use the same model but in Cross-Validation approach\n",
        "from sklearn.model_selection import KFold\n",
        "import matplotlib.pyplot as plt\n",
        "import numpy as np\n",
        "\n",
        "\n",
        "torch.manual_seed(42)\n",
        "k = 5\n",
        "\n",
        "# Initialize a KFold object\n",
        "kf = KFold(n_splits=k, shuffle=True, random_state=42)\n",
        "epoches = 100\n",
        "\n",
        "accuracy_scores = []\n",
        "i=0\n",
        "\n",
        "# Perform k-fold cross-validation\n",
        "for train_index, test_index in kf.split(X_train):\n",
        "    i+=1\n",
        "    X_fold_train, X_validation = X_train[train_index].to(device), X_train[test_index].to(device)\n",
        "    y_fold_train, y_validation = y_train[train_index].to(device), y_train[test_index].to(device)\n",
        "\n",
        "    # Build training and evaluation loop\n",
        "    for epoch in range(epoches):\n",
        "      ###Training\n",
        "      model_1.train()\n",
        "\n",
        "      # 1. Forward pass\n",
        "      y_logits = model_1(X_fold_train).squeeze()\n",
        "      y_pred = torch.round(torch.sigmoid(y_logits)) # raw logits -> predoction propabilities -> prediction labels\n",
        "\n",
        "      #Calculate the loss\n",
        "      '''\n",
        "      nn.BCELoss insted of nn.BCEWithLogitsLoss\n",
        "        loss = loss_fn(torch.sigmoid(y_logits)\n",
        "                        ,y_train)\n",
        "      '''\n",
        "      train_loss = loss_fn(y_logits,\n",
        "                    y_fold_train)\n",
        "      train_acc = accuarcy_fn(y_true=y_fold_train,\n",
        "                        y_pred=y_pred)\n",
        "      # 3.Optimize zero grad\n",
        "      optimizer.zero_grad()\n",
        "\n",
        "      # 4. Loss backward\n",
        "      train_loss.backward()\n",
        "\n",
        "      # 5. Optimizer step\n",
        "      optimizer.step()\n",
        "\n",
        "      ###testing\n",
        "      model_1.eval()\n",
        "      with torch.inference_mode():\n",
        "        #1. Forward pass\n",
        "        test_logits = model_1(X_validation).squeeze()\n",
        "        test_pred = torch.round(torch.sigmoid(test_logits))\n",
        "\n",
        "        #2. Calculate test loss and acc\n",
        "        test_loss= loss_fn(test_logits,\n",
        "                          y_validation)\n",
        "        test_acc= accuarcy_fn(y_true=y_validation,\n",
        "                              y_pred=test_pred)\n",
        "    accuracy_scores.append(test_acc)\n",
        "    print(f\"Fold= {i} | Train_Loss = {train_loss:.5f} |  Train_Accuarcy = {train_acc:.2f} | Test_Loss = {test_loss:.5f} | Test_Accuracy = {test_acc:.2f}\")\n",
        "\n",
        "# Plot the performance metric for each fold\n",
        "plt.figure(figsize=(8, 6))\n",
        "plt.plot(np.arange(1, k+1), accuracy_scores, marker='o', linestyle='-', color='b')\n",
        "plt.xlabel('Fold')\n",
        "plt.ylabel('Accuracy')\n",
        "plt.title('Accuracy for each fold of Cross-Validation')\n",
        "plt.grid(True)\n",
        "plt.show()\n"
      ],
      "metadata": {
        "colab": {
          "base_uri": "https://localhost:8080/",
          "height": 651
        },
        "id": "0iYgHTQnVh8K",
        "outputId": "1861f890-9c81-44b7-fc51-a0c08c415dc9"
      },
      "execution_count": 28,
      "outputs": [
        {
          "output_type": "stream",
          "name": "stdout",
          "text": [
            "Fold= 1 | Train_Loss = 0.70647 |  Train_Accuarcy = 41.25 | Test_Loss = 0.70769 | Test_Accuracy = 45.00\n",
            "Fold= 2 | Train_Loss = 0.70871 |  Train_Accuarcy = 40.00 | Test_Loss = 0.69872 | Test_Accuracy = 50.00\n",
            "Fold= 3 | Train_Loss = 0.70677 |  Train_Accuarcy = 41.25 | Test_Loss = 0.70646 | Test_Accuracy = 45.00\n",
            "Fold= 4 | Train_Loss = 0.70351 |  Train_Accuarcy = 46.25 | Test_Loss = 0.71953 | Test_Accuracy = 25.00\n",
            "Fold= 5 | Train_Loss = 0.70810 |  Train_Accuarcy = 41.25 | Test_Loss = 0.70116 | Test_Accuracy = 45.00\n"
          ]
        },
        {
          "output_type": "display_data",
          "data": {
            "text/plain": [
              "<Figure size 800x600 with 1 Axes>"
            ],
            "image/png": "[encoded data removed]"
          },
          "metadata": {}
        }
      ]
    },
    {
      "cell_type": "code",
      "source": [
        "# check predictions on unseen data\n",
        "model_1.eval()\n",
        "with torch.inference_mode():\n",
        "  #1. Forward pass\n",
        "  test_logits = model_1(X_test).squeeze()\n",
        "  untrained_preds = torch.round(torch.sigmoid(test_logits))\n",
        "\n",
        "print(f\"Length of predictions: {len(untrained_preds)}, Shape: {untrained_preds.shape}\")\n",
        "print(f\"Length of test samples: {len(y_test)}, Shape: {y_test.shape}\")\n",
        "print(f\"\\n First 10 predictions:\\n {untrained_preds} \")\n",
        "print(f\"\\n First 10 labels:\\n {y_test} \")\n",
        "test_acc= accuarcy_fn(y_true=y_test,\n",
        "                              y_pred=untrained_preds)\n",
        "print(f\"\\n accuracy: {test_acc:.2f}\")"
      ],
      "metadata": {
        "colab": {
          "base_uri": "https://localhost:8080/"
        },
        "id": "GTKHvVDWYA62",
        "outputId": "eeb99cfd-5105-4ee1-c2e7-b3bf4921ed44"
      },
      "execution_count": 29,
      "outputs": [
        {
          "output_type": "stream",
          "name": "stdout",
          "text": [
            "Length of predictions: 25, Shape: torch.Size([25])\n",
            "Length of test samples: 25, Shape: torch.Size([25])\n",
            "\n",
            " First 10 predictions:\n",
            " tensor([0., 0., 0., 0., 1., 0., 0., 0., 0., 1., 0., 1., 1., 0., 1., 0., 0., 1.,\n",
            "        0., 1., 1., 0., 0., 0., 0.]) \n",
            "\n",
            " First 10 labels:\n",
            " tensor([0., 0., 0., 1., 1., 1., 1., 1., 1., 0., 0., 1., 0., 1., 0., 1., 0., 1.,\n",
            "        0., 1., 0., 1., 0., 0., 0.]) \n",
            "\n",
            " accuracy: 52.00\n"
          ]
        }
      ]
    },
    {
      "cell_type": "markdown",
      "source": [
        "# Model_1 sum up\n",
        "we saw a bit of increcment on the accuracy on an unseen data, let's try to modify the model a bit more by adding it two more layers"
      ],
      "metadata": {
        "id": "Xjv0J684c8Wq"
      }
    },
    {
      "cell_type": "markdown",
      "source": [
        "# Model_2"
      ],
      "metadata": {
        "id": "6xkTBavBgRMv"
      }
    },
    {
      "cell_type": "code",
      "source": [
        "# construct a model that subclasses nn.module, **Version 2**\n",
        "class FibromyalgiaV2(nn.Module):\n",
        "  def __init__(self):\n",
        "    super().__init__()\n",
        "\n",
        "    self.fc1 = nn.Linear(1620, 512)  # Input size is 1620, output size is 512\n",
        "    self.fc2 = nn.Linear(512, 128)\n",
        "    self.fc3 = nn.Linear(128, 64)\n",
        "    self.fc4 = nn.Linear(64, 32)\n",
        "    self.fc5 = nn.Linear(32, 1)  # Output size is 1 for binary classification\n",
        "\n",
        "  def forward(self, x):\n",
        "    x = torch.relu(self.fc1(x))  # Apply ReLU activation function\n",
        "    x = torch.relu(self.fc2(x))  # Apply ReLU activation to the second layer\n",
        "    x = torch.relu(self.fc3(x))  # Apply ReLU activation to the third layer\n",
        "    x = torch.relu(self.fc4(x))  # Apply ReLU activation to the forth layer\n",
        "    x = self.fc5(x)  # Output layer without activation function\n",
        "    return x\n",
        "\n",
        "model_2 = FibromyalgiaV2().to(device)\n",
        "model_2"
      ],
      "metadata": {
        "colab": {
          "base_uri": "https://localhost:8080/"
        },
        "id": "g-LbDGAKdVtk",
        "outputId": "5d36a2c7-5def-443b-af7e-a552a5a1f870"
      },
      "execution_count": 30,
      "outputs": [
        {
          "output_type": "execute_result",
          "data": {
            "text/plain": [
              "FibromyalgiaV2(\n",
              "  (fc1): Linear(in_features=1620, out_features=512, bias=True)\n",
              "  (fc2): Linear(in_features=512, out_features=128, bias=True)\n",
              "  (fc3): Linear(in_features=128, out_features=64, bias=True)\n",
              "  (fc4): Linear(in_features=64, out_features=32, bias=True)\n",
              "  (fc5): Linear(in_features=32, out_features=1, bias=True)\n",
              ")"
            ]
          },
          "metadata": {},
          "execution_count": 30
        }
      ]
    },
    {
      "cell_type": "code",
      "source": [
        "# Setup the loss function, the mission is to classify, so we will might want to use cross-entropy\n",
        "loss_fn= nn.BCEWithLogitsLoss() # BCEWithLogitLoss = sgmoid activation function built-in\n",
        "\n",
        "optimizer = torch.optim.Adam(params=model_2.parameters(), lr=0.001)"
      ],
      "metadata": {
        "id": "6xWlyupmeYxm"
      },
      "execution_count": 31,
      "outputs": []
    },
    {
      "cell_type": "code",
      "source": [
        "# We will now use the same model but in Cross-Validation approach\n",
        "from sklearn.model_selection import KFold\n",
        "import matplotlib.pyplot as plt\n",
        "import numpy as np\n",
        "\n",
        "\n",
        "torch.manual_seed(42)\n",
        "k = 5\n",
        "\n",
        "# Initialize a KFold object\n",
        "kf = KFold(n_splits=k, shuffle=True, random_state=42)\n",
        "epoches = 150\n",
        "\n",
        "accuracy_scores = []\n",
        "i=0\n",
        "\n",
        "# Perform k-fold cross-validation\n",
        "for train_index, test_index in kf.split(X_train):\n",
        "    i+=1\n",
        "    X_fold_train, X_validation = X_train[train_index].to(device), X_train[test_index].to(device)\n",
        "    y_fold_train, y_validation = y_train[train_index].to(device), y_train[test_index].to(device)\n",
        "\n",
        "    # Build training and evaluation loop\n",
        "    for epoch in range(epoches):\n",
        "      ###Training\n",
        "      model_2.train()\n",
        "\n",
        "      # 1. Forward pass\n",
        "      y_logits = model_2(X_fold_train).squeeze()\n",
        "      y_pred = torch.round(torch.sigmoid(y_logits)) # raw logits -> predoction propabilities -> prediction labels\n",
        "\n",
        "      #Calculate the loss\n",
        "      '''\n",
        "      nn.BCELoss insted of nn.BCEWithLogitsLoss\n",
        "        loss = loss_fn(torch.sigmoid(y_logits)\n",
        "                        ,y_train)\n",
        "      '''\n",
        "      train_loss = loss_fn(y_logits,\n",
        "                    y_fold_train)\n",
        "      train_acc = accuarcy_fn(y_true=y_fold_train,\n",
        "                        y_pred=y_pred)\n",
        "      # 3.Optimize zero grad\n",
        "      optimizer.zero_grad()\n",
        "\n",
        "      # 4. Loss backward\n",
        "      train_loss.backward()\n",
        "\n",
        "      # 5. Optimizer step\n",
        "      optimizer.step()\n",
        "\n",
        "      ###testing\n",
        "      model_2.eval()\n",
        "      with torch.inference_mode():\n",
        "        #1. Forward pass\n",
        "        test_logits = model_2(X_validation).squeeze()\n",
        "        test_pred = torch.round(torch.sigmoid(test_logits))\n",
        "\n",
        "        #2. Calculate test loss and acc\n",
        "        test_loss= loss_fn(test_logits,\n",
        "                          y_validation)\n",
        "        test_acc= accuarcy_fn(y_true=y_validation,\n",
        "                              y_pred=test_pred)\n",
        "    accuracy_scores.append(test_acc)\n",
        "    print(f\"Fold= {i} | Train_Loss = {train_loss:.5f} |  Train_Accuarcy = {train_acc:.2f} | Test_Loss = {test_loss:.5f} | Test_Accuracy = {test_acc:.2f}\")\n",
        "\n",
        "# Plot the performance metric for each fold\n",
        "plt.figure(figsize=(8, 6))\n",
        "plt.plot(np.arange(1, k+1), accuracy_scores, marker='o', linestyle='-', color='b')\n",
        "plt.xlabel('Fold')\n",
        "plt.ylabel('Accuracy')\n",
        "plt.title('Accuracy for each fold of Cross-Validation')\n",
        "plt.grid(True)\n",
        "plt.show()\n"
      ],
      "metadata": {
        "id": "a1efnSrPedWO",
        "colab": {
          "base_uri": "https://localhost:8080/",
          "height": 651
        },
        "outputId": "28c4af63-d02e-47cb-f87a-345f39dc53aa"
      },
      "execution_count": 32,
      "outputs": [
        {
          "output_type": "stream",
          "name": "stdout",
          "text": [
            "Fold= 1 | Train_Loss = 0.00000 |  Train_Accuarcy = 100.00 | Test_Loss = 3.73321 | Test_Accuracy = 55.00\n",
            "Fold= 2 | Train_Loss = 0.00000 |  Train_Accuarcy = 100.00 | Test_Loss = 0.31283 | Test_Accuracy = 95.00\n",
            "Fold= 3 | Train_Loss = 0.00001 |  Train_Accuarcy = 100.00 | Test_Loss = 0.00004 | Test_Accuracy = 100.00\n",
            "Fold= 4 | Train_Loss = 0.00000 |  Train_Accuarcy = 100.00 | Test_Loss = 0.00000 | Test_Accuracy = 100.00\n",
            "Fold= 5 | Train_Loss = 0.00000 |  Train_Accuarcy = 100.00 | Test_Loss = 0.00000 | Test_Accuracy = 100.00\n"
          ]
        },
        {
          "output_type": "display_data",
          "data": {
            "text/plain": [
              "<Figure size 800x600 with 1 Axes>"
            ],
            "image/png": "[encoded data removed]"
          },
          "metadata": {}
        }
      ]
    },
    {
      "cell_type": "code",
      "source": [
        "# check predictions on unseen data\n",
        "model_2.eval()\n",
        "with torch.inference_mode():\n",
        "  #1. Forward pass\n",
        "  test_logits = model_2(X_test).squeeze()\n",
        "  untrained_preds = torch.round(torch.sigmoid(test_logits))\n",
        "\n",
        "print(f\"Length of predictions: {len(untrained_preds)}, Shape: {untrained_preds.shape}\")\n",
        "print(f\"Length of test samples: {len(y_test)}, Shape: {y_test.shape}\")\n",
        "print(f\"\\n First 10 predictions:\\n {untrained_preds} \")\n",
        "print(f\"\\n First 10 labels:\\n {y_test} \")\n",
        "test_acc= accuarcy_fn(y_true=y_test,\n",
        "                              y_pred=untrained_preds)\n",
        "print(f\"\\n accuracy: {test_acc:.2f}\")"
      ],
      "metadata": {
        "id": "5InxtHvierAY",
        "colab": {
          "base_uri": "https://localhost:8080/"
        },
        "outputId": "720977ad-4e01-451e-d5f0-0c6e18016f5d"
      },
      "execution_count": 33,
      "outputs": [
        {
          "output_type": "stream",
          "name": "stdout",
          "text": [
            "Length of predictions: 25, Shape: torch.Size([25])\n",
            "Length of test samples: 25, Shape: torch.Size([25])\n",
            "\n",
            " First 10 predictions:\n",
            " tensor([0., 1., 0., 1., 0., 0., 1., 1., 1., 1., 1., 1., 1., 1., 0., 1., 0., 0.,\n",
            "        1., 1., 0., 1., 0., 0., 0.]) \n",
            "\n",
            " First 10 labels:\n",
            " tensor([0., 0., 0., 1., 1., 1., 1., 1., 1., 0., 0., 1., 0., 1., 0., 1., 0., 1.,\n",
            "        0., 1., 0., 1., 0., 0., 0.]) \n",
            "\n",
            " accuracy: 68.00\n"
          ]
        }
      ]
    },
    {
      "cell_type": "markdown",
      "source": [
        "##Model_3"
      ],
      "metadata": {
        "id": "0SPLRS7-4bC3"
      }
    },
    {
      "cell_type": "code",
      "source": [
        "# construct a model that subclasses nn.module, **Version 3**\n",
        "class FibromyalgiaV3(nn.Module):\n",
        "  def __init__(self):\n",
        "    super().__init__()\n",
        "\n",
        "    self.fc1 = nn.Linear(1620, 512)  # Input size is 1620, output size is 512\n",
        "    self.dropout1 = nn.Dropout(p=0.2)  # Specify the dropout probability (e.g., 0.2 for 20% dropout)\n",
        "    self.fc2 = nn.Linear(512, 128)\n",
        "    self.dropout2 = nn.Dropout(p=0.2)  # Specify the dropout probability (e.g., 0.2 for 20% dropout)\n",
        "    self.fc3 = nn.Linear(128, 64)\n",
        "    self.dropout3 = nn.Dropout(p=0.2)  # Specify the dropout probability (e.g., 0.2 for 20% dropout)\n",
        "    self.fc4 = nn.Linear(64, 32)\n",
        "    self.dropout4 = nn.Dropout(p=0.2)  # Specify the dropout probability (e.g., 0.2 for 20% dropout)\n",
        "    self.fc5 = nn.Linear(32, 1)  # Output size is 1 for binary classification\n",
        "\n",
        "  def forward(self, x):\n",
        "    x = torch.relu(self.fc1(x))  # Apply ReLU activation function\n",
        "    x = self.dropout1(x)\n",
        "    x = torch.relu(self.fc2(x))  # Apply ReLU activation to the second layer\n",
        "    x = self.dropout2(x)\n",
        "    x = torch.relu(self.fc3(x))  # Apply ReLU activation to the third layer\n",
        "    x = self.dropout3(x)\n",
        "    x = torch.relu(self.fc4(x))  # Apply ReLU activation to the forth layer\n",
        "    x = self.dropout4(x)\n",
        "    x = self.fc5(x)  # Output layer without activation function\n",
        "    return x\n",
        "\n",
        "model_3 = FibromyalgiaV3().to(device)\n",
        "model_3"
      ],
      "metadata": {
        "colab": {
          "base_uri": "https://localhost:8080/"
        },
        "id": "mCKtvNxp4dPV",
        "outputId": "029d6425-8d70-4452-c70a-9873ba4e13b7"
      },
      "execution_count": 34,
      "outputs": [
        {
          "output_type": "execute_result",
          "data": {
            "text/plain": [
              "FibromyalgiaV3(\n",
              "  (fc1): Linear(in_features=1620, out_features=512, bias=True)\n",
              "  (dropout1): Dropout(p=0.2, inplace=False)\n",
              "  (fc2): Linear(in_features=512, out_features=128, bias=True)\n",
              "  (dropout2): Dropout(p=0.2, inplace=False)\n",
              "  (fc3): Linear(in_features=128, out_features=64, bias=True)\n",
              "  (dropout3): Dropout(p=0.2, inplace=False)\n",
              "  (fc4): Linear(in_features=64, out_features=32, bias=True)\n",
              "  (dropout4): Dropout(p=0.2, inplace=False)\n",
              "  (fc5): Linear(in_features=32, out_features=1, bias=True)\n",
              ")"
            ]
          },
          "metadata": {},
          "execution_count": 34
        }
      ]
    },
    {
      "cell_type": "code",
      "source": [
        "# Setup the loss function, the mission is to classify, so we will might want to use cross-entropy\n",
        "loss_fn= nn.BCEWithLogitsLoss() # BCEWithLogitLoss = sgmoid activation function built-in\n",
        "#\n",
        "optimizer = torch.optim.SGD(params=model_3.parameters(), lr=0.001)"
      ],
      "metadata": {
        "id": "yhMwAde24_CW"
      },
      "execution_count": 35,
      "outputs": []
    },
    {
      "cell_type": "code",
      "source": [
        "# We will now use the same model but in Cross-Validation approach\n",
        "from sklearn.model_selection import KFold\n",
        "import matplotlib.pyplot as plt\n",
        "import numpy as np\n",
        "\n",
        "\n",
        "torch.manual_seed(42)\n",
        "k = 5\n",
        "\n",
        "# Initialize a KFold object\n",
        "kf = KFold(n_splits=k, shuffle=True, random_state=42)\n",
        "epoches = 20\n",
        "\n",
        "accuracy_scores = []\n",
        "i=0\n",
        "\n",
        "# Perform k-fold cross-validation\n",
        "for train_index, test_index in kf.split(X_train):\n",
        "    i+=1\n",
        "    X_fold_train, X_validation = X_train[train_index].to(device), X_train[test_index].to(device)\n",
        "    y_fold_train, y_validation = y_train[train_index].to(device), y_train[test_index].to(device)\n",
        "\n",
        "    # Build training and evaluation loop\n",
        "    for epoch in range(epoches):\n",
        "      ###Training\n",
        "      model_3.train()\n",
        "\n",
        "      # 1. Forward pass\n",
        "      y_logits = model_3(X_fold_train).squeeze()\n",
        "      y_pred = torch.round(torch.sigmoid(y_logits)) # raw logits -> predoction propabilities -> prediction labels\n",
        "\n",
        "      #Calculate the loss\n",
        "      '''\n",
        "      nn.BCELoss insted of nn.BCEWithLogitsLoss\n",
        "        loss = loss_fn(torch.sigmoid(y_logits)\n",
        "                        ,y_train)\n",
        "      '''\n",
        "      train_loss = loss_fn(y_logits,\n",
        "                    y_fold_train)\n",
        "      train_acc = accuarcy_fn(y_true=y_fold_train,\n",
        "                        y_pred=y_pred)\n",
        "      # 3.Optimize zero grad\n",
        "      optimizer.zero_grad()\n",
        "\n",
        "      # 4. Loss backward\n",
        "      train_loss.backward()\n",
        "\n",
        "      # 5. Optimizer step\n",
        "      optimizer.step()\n",
        "\n",
        "      ###testing\n",
        "      model_3.eval()\n",
        "      with torch.inference_mode():\n",
        "        #1. Forward pass\n",
        "        test_logits = model_3(X_validation).squeeze()\n",
        "        test_pred = torch.round(torch.sigmoid(test_logits))\n",
        "\n",
        "        #2. Calculate test loss and acc\n",
        "        test_loss= loss_fn(test_logits,\n",
        "                          y_validation)\n",
        "        test_acc= accuarcy_fn(y_true=y_validation,\n",
        "                              y_pred=test_pred)\n",
        "    accuracy_scores.append(test_acc)\n",
        "    print(f\"Fold= {i} | Train_Loss = {train_loss:.5f} |  Train_Accuarcy = {train_acc:.2f} | Test_Loss = {test_loss:.5f} | Test_Accuracy = {test_acc:.2f}\")\n",
        "\n",
        "# Plot the performance metric for each fold\n",
        "plt.figure(figsize=(8, 6))\n",
        "plt.plot(np.arange(1, k+1), accuracy_scores, marker='o', linestyle='-', color='b')\n",
        "plt.xlabel('Fold')\n",
        "plt.ylabel('Accuracy')\n",
        "plt.title('Accuracy for each fold of Cross-Validation')\n",
        "plt.grid(True)\n",
        "plt.show()\n"
      ],
      "metadata": {
        "id": "QRp6yMO-5DhK",
        "colab": {
          "base_uri": "https://localhost:8080/",
          "height": 651
        },
        "outputId": "f06d8662-953f-4ec9-dfa1-242381e2f41d"
      },
      "execution_count": 36,
      "outputs": [
        {
          "output_type": "stream",
          "name": "stdout",
          "text": [
            "Fold= 1 | Train_Loss = 0.68093 |  Train_Accuarcy = 68.75 | Test_Loss = 0.69325 | Test_Accuracy = 50.00\n",
            "Fold= 2 | Train_Loss = 0.68250 |  Train_Accuarcy = 63.75 | Test_Loss = 0.67770 | Test_Accuracy = 70.00\n",
            "Fold= 3 | Train_Loss = 0.68433 |  Train_Accuarcy = 62.50 | Test_Loss = 0.67440 | Test_Accuracy = 75.00\n",
            "Fold= 4 | Train_Loss = 0.68638 |  Train_Accuarcy = 62.50 | Test_Loss = 0.67354 | Test_Accuracy = 75.00\n",
            "Fold= 5 | Train_Loss = 0.67881 |  Train_Accuarcy = 67.50 | Test_Loss = 0.68875 | Test_Accuracy = 55.00\n"
          ]
        },
        {
          "output_type": "display_data",
          "data": {
            "text/plain": [
              "<Figure size 800x600 with 1 Axes>"
            ],
            "image/png": "[encoded data removed]"
          },
          "metadata": {}
        }
      ]
    },
    {
      "cell_type": "code",
      "source": [
        "# check predictions on unseen data\n",
        "model_3.eval()\n",
        "with torch.inference_mode():\n",
        "  #1. Forward pass\n",
        "  test_logits = model_3(X_test).squeeze()\n",
        "  untrained_preds = torch.round(torch.sigmoid(test_logits))\n",
        "\n",
        "print(f\"Length of predictions: {len(untrained_preds)}, Shape: {untrained_preds.shape}\")\n",
        "print(f\"Length of test samples: {len(y_test)}, Shape: {y_test.shape}\")\n",
        "print(f\"\\n First 10 predictions:\\n {untrained_preds} \")\n",
        "print(f\"\\n First 10 labels:\\n {y_test} \")\n",
        "test_acc= accuarcy_fn(y_true=y_test,\n",
        "                              y_pred=untrained_preds)\n",
        "print(f\"\\n accuracy: {test_acc:.2f}\")"
      ],
      "metadata": {
        "id": "pL5Nc1Tr5QWO",
        "colab": {
          "base_uri": "https://localhost:8080/"
        },
        "outputId": "9e1981ae-39b1-47c9-f497-2886f8406743"
      },
      "execution_count": 37,
      "outputs": [
        {
          "output_type": "stream",
          "name": "stdout",
          "text": [
            "Length of predictions: 25, Shape: torch.Size([25])\n",
            "Length of test samples: 25, Shape: torch.Size([25])\n",
            "\n",
            " First 10 predictions:\n",
            " tensor([1., 1., 1., 1., 1., 1., 1., 1., 1., 1., 1., 1., 1., 1., 1., 1., 1., 1.,\n",
            "        1., 1., 1., 1., 1., 1., 1.]) \n",
            "\n",
            " First 10 labels:\n",
            " tensor([0., 0., 0., 1., 1., 1., 1., 1., 1., 0., 0., 1., 0., 1., 0., 1., 0., 1.,\n",
            "        0., 1., 0., 1., 0., 0., 0.]) \n",
            "\n",
            " accuracy: 48.00\n"
          ]
        }
      ]
    },
    {
      "cell_type": "markdown",
      "source": [
        "## Staking\n",
        "1. Generate Intermediate Predictions: First, we will use the generated intermediate predictions (also known as meta-features or level-1 predictions) from each model for the same input data. These intermediate predictions will serve as features for the meta-learner.\n",
        "\n",
        "2. Train Meta-Learner: Train a meta-learner (level-2 model) using the intermediate predictions as features and the true labels as targets.\n",
        "\n",
        "3. Evaluate Performance: Finally, evaluate the performance of the meta-learner on our validation or test dataset."
      ],
      "metadata": {
        "id": "aG3j7GpsqXtk"
      }
    },
    {
      "cell_type": "code",
      "source": [
        "model_1.eval()\n",
        "model_2.eval()\n",
        "\n",
        "# Generate intermediate predictions for each model\n",
        "with torch.no_grad():\n",
        "    preds_1 = model_1(X_train).cpu().numpy()\n",
        "    preds_2 = model_2(X_train).cpu().numpy()  # Convert predictions to numpy array\n",
        "\n",
        "# Combine intermediate predictions into a single feature matrix\n",
        "stacked_features_train = np.concatenate((preds_1, preds_2), axis=1)\n",
        "\n",
        "# Repeat the same process for the test dataset\n",
        "with torch.no_grad():\n",
        "    preds_1_test = model_1(X_test).cpu().numpy()\n",
        "    preds_2_test = model_2(X_test).cpu().numpy()\n",
        "\n",
        "stacked_features_test = np.concatenate((preds_1_test, preds_2_test), axis=1)\n"
      ],
      "metadata": {
        "id": "fA_QEiaunz5b"
      },
      "execution_count": 38,
      "outputs": []
    },
    {
      "cell_type": "code",
      "source": [
        "class MetaLearner(nn.Module):\n",
        "    def __init__(self, input_dim, output_dim):\n",
        "        super(MetaLearner, self).__init__()\n",
        "        self.fc = nn.Linear(input_dim, output_dim)\n",
        "\n",
        "    def forward(self, x):\n",
        "        return torch.sigmoid(self.fc(x))\n",
        "meta_learner = MetaLearner(input_dim=stacked_features_train.shape[1], output_dim=1).to(device)\n",
        "optimizer = torch.optim.Adam(meta_learner.parameters(), lr=0.001)"
      ],
      "metadata": {
        "id": "Rle7BFgVqtJb"
      },
      "execution_count": 39,
      "outputs": []
    },
    {
      "cell_type": "code",
      "source": [
        "stacked_features_train_tensor = torch.tensor(stacked_features_train, dtype=torch.float32).to(device)\n",
        "y_train_tensor = torch.tensor(y_train, dtype=torch.float32).view(-1, 1).to(device)\n",
        "\n",
        "# Train the meta-learner\n",
        "num_epochs = 100\n",
        "for epoch in range(num_epochs):\n",
        "    meta_learner.train()\n",
        "    optimizer.zero_grad()\n",
        "    outputs = meta_learner(stacked_features_train_tensor)\n",
        "    loss = loss_fn(outputs, y_train_tensor)\n",
        "    loss.backward()\n",
        "    optimizer.step()"
      ],
      "metadata": {
        "colab": {
          "base_uri": "https://localhost:8080/"
        },
        "id": "78MFktNlq6up",
        "outputId": "a13e52c2-d202-4e79-d713-eb47a95622ae"
      },
      "execution_count": 40,
      "outputs": [
        {
          "output_type": "stream",
          "name": "stderr",
          "text": [
            "<ipython-input-40-2b9f61f9f9c0>:2: UserWarning: To copy construct from a tensor, it is recommended to use sourceTensor.clone().detach() or sourceTensor.clone().detach().requires_grad_(True), rather than torch.tensor(sourceTensor).\n",
            "  y_train_tensor = torch.tensor(y_train, dtype=torch.float32).view(-1, 1).to(device)\n"
          ]
        }
      ]
    },
    {
      "cell_type": "code",
      "source": [
        "stacked_features_test_tensor = torch.tensor(stacked_features_test, dtype=torch.float32).to(device)\n",
        "\n",
        "# Evaluate the meta-learner on the test data\n",
        "with torch.no_grad():\n",
        "    meta_learner.eval()\n",
        "    test_outputs = meta_learner(stacked_features_test_tensor)\n",
        "    test_predictions = (test_outputs > 0.6).float().cpu().numpy()\n",
        "\n",
        "# Evaluate performance of the meta-learner\n",
        "# For binary classification, you might use metrics like accuracy, precision, recall, or ROC AUC\n",
        "# For example:\n",
        "from sklearn.metrics import accuracy_score\n",
        "meta_learner_accuracy = accuracy_score(y_test, test_predictions)\n",
        "\n",
        "print(f\"Meta-Learner Accuracy: {meta_learner_accuracy:.4f}\")"
      ],
      "metadata": {
        "colab": {
          "base_uri": "https://localhost:8080/"
        },
        "id": "wcJdd3IFrJOP",
        "outputId": "c397d231-176c-4446-e294-5631b9f71591"
      },
      "execution_count": 41,
      "outputs": [
        {
          "output_type": "stream",
          "name": "stdout",
          "text": [
            "Meta-Learner Accuracy: 0.6800\n"
          ]
        }
      ]
    },
    {
      "cell_type": "markdown",
      "source": [
        "## Bagging(Bootstrap Aggregating)\n",
        "Train multiple instances of the same model on different random subsets of the training data. Then, combine their predictions by averaging or voting. Bagging can help reduce variance and overfitting by training models on diverse subsets of the data."
      ],
      "metadata": {
        "id": "6j3aAUUiHF1I"
      }
    },
    {
      "cell_type": "markdown",
      "source": [
        "trying to use cross-validation in order to split non randomly the train set"
      ],
      "metadata": {
        "id": "eb3tmN1slZEC"
      }
    },
    {
      "cell_type": "code",
      "source": [
        "# We will now use the same model but in Cross-Validation approach\n",
        "from sklearn.model_selection import KFold\n",
        "import matplotlib.pyplot as plt\n",
        "import numpy as np\n",
        "from sklearn.metrics import accuracy_score\n",
        "from sklearn.model_selection import train_test_split\n",
        "\n",
        "\n",
        "torch.manual_seed(42)\n",
        "base_models = []\n",
        "n_estimators = 10  # Number of base models\n",
        "\n",
        "kf = KFold(n_splits= 8, shuffle=True, random_state=42)\n",
        "i=0\n",
        "\n",
        "\n",
        "epoches = 50\n",
        "\n",
        "accuracy_scores = []\n",
        "\n",
        "\n",
        "for train_index, val_index in kf.split(X_train):\n",
        "  i+=1\n",
        "  X_train_fold, X_val_fold = X_train[train_index], X_train[val_index]\n",
        "  y_train_fold, y_val_fold = y_train[train_index], y_train[val_index]\n",
        "\n",
        "  model = FibromyalgiaV2().to(device)\n",
        "  optimizer = torch.optim.Adam(model.parameters(), lr=0.001)\n",
        "  # Build training and evaluation loop\n",
        "  for epoch in range(epoches):\n",
        "    ###Training\n",
        "    model.train()\n",
        "\n",
        "    # 1. Forward pass\n",
        "    y_logits = model(X_train_fold).squeeze()\n",
        "    y_pred = torch.round(torch.sigmoid(y_logits)) # raw logits -> predoction propabilities -> prediction labels\n",
        "\n",
        "        #Calculate the loss\n",
        "    '''\n",
        "          nn.BCELoss insted of nn.BCEWithLogitsLoss\n",
        "            loss = loss_fn(torch.sigmoid(y_logits)\n",
        "                            ,y_train)\n",
        "    '''\n",
        "    train_loss = loss_fn(y_logits,\n",
        "                    y_train_fold)\n",
        "    train_acc = accuarcy_fn(y_true=y_train_fold,\n",
        "                            y_pred=y_pred)\n",
        "          # 3.Optimize zero grad\n",
        "    optimizer.zero_grad()\n",
        "\n",
        "          # 4. Loss backward\n",
        "    train_loss.backward()\n",
        "\n",
        "          # 5. Optimizer step\n",
        "    optimizer.step()\n",
        "\n",
        "  base_models.append(model)\n",
        "  ###testing\n",
        "  model.eval()\n",
        "  with torch.inference_mode():\n",
        "    #1. Forward pass\n",
        "    test_logits = model(X_validation).squeeze()\n",
        "    test_pred = torch.round(torch.sigmoid(test_logits))\n",
        "\n",
        "    #2. Calculate test loss and acc\n",
        "    test_loss= loss_fn(test_logits,\n",
        "                          y_validation)\n",
        "    test_acc= accuarcy_fn(y_true=y_validation,\n",
        "                              y_pred=test_pred)\n",
        "    accuracy_scores.append(test_acc)\n",
        "  print(f\"Fold= {i} | Train_Loss = {train_loss:.5f} |  Train_Accuarcy = {train_acc:.2f} | Test_Loss = {test_loss:.5f} | Test_Accuracy = {test_acc:.2f}\")\n",
        "\n",
        "      ###testing\n",
        "\n",
        "# Make predictions on UNSEEN test set using each base model\n",
        "predictions = []\n",
        "for model in base_models:\n",
        "    model.eval()\n",
        "    with torch.no_grad():\n",
        "        outputs = model(X_test)\n",
        "        predictions.append(torch.sigmoid(outputs).cpu().numpy())\n",
        "\n",
        "# Aggregate predictions from all base models\n",
        "ensemble_predictions = np.mean(predictions, axis=0)\n",
        "\n",
        "# Convert predictions to binary labels\n",
        "ensemble_labels = np.where(ensemble_predictions > 0.385, 1, 0)\n",
        "\n",
        "# Calculate accuracy\n",
        "accuracy = accuracy_score(y_test, ensemble_labels)\n",
        "print(f\"Ensemble Accuracy: {accuracy:.4f}\")\n"
      ],
      "metadata": {
        "colab": {
          "base_uri": "https://localhost:8080/"
        },
        "id": "lULwM_9RrUts",
        "outputId": "194188e8-92c2-4b57-8857-780d329d79c5"
      },
      "execution_count": 67,
      "outputs": [
        {
          "output_type": "stream",
          "name": "stdout",
          "text": [
            "Fold= 1 | Train_Loss = 0.00000 |  Train_Accuarcy = 100.00 | Test_Loss = 0.30476 | Test_Accuracy = 95.00\n",
            "Fold= 2 | Train_Loss = 0.00000 |  Train_Accuarcy = 100.00 | Test_Loss = 0.47508 | Test_Accuracy = 90.00\n",
            "Fold= 3 | Train_Loss = 0.00000 |  Train_Accuarcy = 100.00 | Test_Loss = 0.00000 | Test_Accuracy = 100.00\n",
            "Fold= 4 | Train_Loss = 0.00000 |  Train_Accuarcy = 100.00 | Test_Loss = 0.03208 | Test_Accuracy = 100.00\n",
            "Fold= 5 | Train_Loss = 0.00000 |  Train_Accuarcy = 100.00 | Test_Loss = 0.14754 | Test_Accuracy = 95.00\n",
            "Fold= 6 | Train_Loss = 0.00000 |  Train_Accuarcy = 100.00 | Test_Loss = 0.15418 | Test_Accuracy = 90.00\n",
            "Fold= 7 | Train_Loss = 0.00000 |  Train_Accuarcy = 100.00 | Test_Loss = 0.24003 | Test_Accuracy = 90.00\n",
            "Fold= 8 | Train_Loss = 0.00000 |  Train_Accuarcy = 100.00 | Test_Loss = 0.00883 | Test_Accuracy = 100.00\n",
            "Ensemble Accuracy: 0.7600\n"
          ]
        }
      ]
    },
    {
      "cell_type": "markdown",
      "source": [
        "## trying to randomly split the train set"
      ],
      "metadata": {
        "id": "Z2ZyEFPYlSyM"
      }
    },
    {
      "cell_type": "code",
      "source": [
        "# We will now use the same model but in Cross-Validation approach\n",
        "from sklearn.model_selection import KFold\n",
        "import matplotlib.pyplot as plt\n",
        "import numpy as np\n",
        "from sklearn.metrics import accuracy_score\n",
        "from sklearn.model_selection import train_test_split\n",
        "\n",
        "\n",
        "torch.manual_seed(42)\n",
        "base_models = []\n",
        "n_estimators = 10  # Number of base models\n",
        "\n",
        "#kf = KFold(n_splits= 3, shuffle=True, random_state=42)\n",
        "\n",
        "\n",
        "\n",
        "epoches = 50\n",
        "\n",
        "accuracy_scores = []\n",
        "\n",
        "\n",
        "for i in range(3):\n",
        "  X_train_subset, X_validation, y_train_subset, y_validation = train_test_split(X_train, y_train, test_size=0.2, random_state=i)\n",
        "\n",
        "  model = FibromyalgiaV2().to(device)\n",
        "  optimizer = torch.optim.Adam(model.parameters(), lr=0.0001)\n",
        "  # Build training and evaluation loop\n",
        "  for epoch in range(epoches):\n",
        "    ###Training\n",
        "    model.train()\n",
        "\n",
        "    # 1. Forward pass\n",
        "    y_logits = model(X_train_subset).squeeze()\n",
        "    y_pred = torch.round(torch.sigmoid(y_logits)) # raw logits -> predoction propabilities -> prediction labels\n",
        "\n",
        "        #Calculate the loss\n",
        "    '''\n",
        "          nn.BCELoss insted of nn.BCEWithLogitsLoss\n",
        "            loss = loss_fn(torch.sigmoid(y_logits)\n",
        "                            ,y_train)\n",
        "    '''\n",
        "    train_loss = loss_fn(y_logits,\n",
        "                    y_train_subset)\n",
        "    train_acc = accuarcy_fn(y_true=y_train_subset,\n",
        "                            y_pred=y_pred)\n",
        "          # 3.Optimize zero grad\n",
        "    optimizer.zero_grad()\n",
        "\n",
        "          # 4. Loss backward\n",
        "    train_loss.backward()\n",
        "\n",
        "          # 5. Optimizer step\n",
        "    optimizer.step()\n",
        "\n",
        "  base_models.append(model)\n",
        "  ###testing\n",
        "  model.eval()\n",
        "  with torch.inference_mode():\n",
        "    #1. Forward pass\n",
        "    test_logits = model(X_validation).squeeze()\n",
        "    test_pred = torch.round(torch.sigmoid(test_logits))\n",
        "\n",
        "    #2. Calculate test loss and acc\n",
        "    test_loss= loss_fn(test_logits,\n",
        "                          y_validation)\n",
        "    test_acc= accuarcy_fn(y_true=y_validation,\n",
        "                              y_pred=test_pred)\n",
        "    accuracy_scores.append(test_acc)\n",
        "  print(f\"Fold= {i} | Train_Loss = {train_loss:.5f} |  Train_Accuarcy = {train_acc:.2f} | Test_Loss = {test_loss:.5f} | Test_Accuracy = {test_acc:.2f}\")\n",
        "\n",
        "      ###testing\n",
        "\n",
        "# Make predictions on UNSEEN test set using each base model\n",
        "predictions = []\n",
        "for model in base_models:\n",
        "    model.eval()\n",
        "    with torch.no_grad():\n",
        "        outputs = model(X_test)\n",
        "        predictions.append(torch.sigmoid(outputs).cpu().numpy())\n",
        "\n",
        "# Aggregate predictions from all base models\n",
        "ensemble_predictions = np.mean(predictions, axis=0)\n",
        "\n",
        "# Convert predictions to binary labels\n",
        "ensemble_labels = np.where(ensemble_predictions > 0.5, 1, 0)\n",
        "\n",
        "# Calculate accuracy\n",
        "accuracy = accuracy_score(y_test, ensemble_labels)\n",
        "print(f\"Ensemble Accuracy: {accuracy:.4f}\")\n",
        "\n"
      ],
      "metadata": {
        "colab": {
          "base_uri": "https://localhost:8080/"
        },
        "id": "ZsJZuFGhjqgK",
        "outputId": "ae2c8cf2-24a4-46d5-d3dd-20bc0dbee526"
      },
      "execution_count": 88,
      "outputs": [
        {
          "output_type": "stream",
          "name": "stdout",
          "text": [
            "Fold= 0 | Train_Loss = 0.38102 |  Train_Accuarcy = 100.00 | Test_Loss = 0.61741 | Test_Accuracy = 70.00\n",
            "Fold= 1 | Train_Loss = 0.36757 |  Train_Accuarcy = 100.00 | Test_Loss = 0.64959 | Test_Accuracy = 75.00\n",
            "Fold= 2 | Train_Loss = 0.40304 |  Train_Accuarcy = 100.00 | Test_Loss = 0.69745 | Test_Accuracy = 50.00\n",
            "Ensemble Accuracy: 0.6800\n"
          ]
        }
      ]
    },
    {
      "cell_type": "code",
      "source": [],
      "metadata": {
        "id": "iG7_YaTsnXV8"
      },
      "execution_count": null,
      "outputs": []
    }
  ]
}